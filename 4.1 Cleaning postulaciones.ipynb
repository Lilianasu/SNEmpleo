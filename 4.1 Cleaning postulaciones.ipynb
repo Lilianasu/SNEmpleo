{
 "cells": [
  {
   "cell_type": "markdown",
   "metadata": {},
   "source": [
    "# Cleaning postulaciones"
   ]
  },
  {
   "cell_type": "markdown",
   "metadata": {},
   "source": [
    "<a id = 'table'> </a>\n",
    "## Table of contents\n",
    "\n",
    "  [Key Points](#key)\n",
    "- Part I - Gathering the data\n",
    "    - [Converting DTA to CSV file](#dta)\n",
    "    - [Reading the CSV file](#read)    \n",
    "\n",
    "- Part II - Assessing and cleaning\n",
    "    - [Making copies](#copies)\n",
    "    - [Exploring the table](#explore)\n",
    "    - [Assesment and cleaning](#clean)\n",
    "    - [Storing Data](#store)\n",
    "    \n",
    "- Part III - Analysis and visualization\n",
    "    - [¿Cuál es el porcentaje de colocación?](#colocacion)\n",
    "    - [¿En cuáles programas se originan las postulaciones?](#programa)\n",
    "    - [¿Qué proporciones tienen los diferentes vínculos?](#vinculo)"
   ]
  },
  {
   "cell_type": "markdown",
   "metadata": {},
   "source": [
    "<a id='key'></a>\n",
    "## Key Points for assessing and cleaning\n",
    "\n",
    "- Aquí estableceremos lo que sabemos de antemano, las premisas, lo que nos interesa y lo que no"
   ]
  },
  {
   "cell_type": "markdown",
   "metadata": {},
   "source": [
    "<a id='dta'></a>\n",
    "[Return to Table of Contents](#table)\n",
    "## Converting DTA to CSV file\n"
   ]
  },
  {
   "cell_type": "code",
   "execution_count": 1,
   "metadata": {},
   "outputs": [],
   "source": [
    "import pandas as pd\n",
    "import numpy as np\n",
    "import matplotlib.pyplot as plt\n",
    "import os\n",
    "import time"
   ]
  },
  {
   "cell_type": "code",
   "execution_count": 3,
   "metadata": {},
   "outputs": [],
   "source": [
    "# creamos my_stata_reader, un objeto que nos permite leer por chunks (trozos)\n",
    "# encoding utf-8\n",
    "my_stata_reader = pd.read_stata('BID2.POSTULACIONES.dta', chunksize=10000)\n",
    "my_stata_reader._encoding = 'utf-8'"
   ]
  },
  {
   "cell_type": "code",
   "execution_count": 4,
   "metadata": {},
   "outputs": [],
   "source": [
    "# obtenemos los nombres de las columnas y las escribimos en el csv\n",
    "# este será el encabezado\n",
    "my_string = \",\".join(my_stata_reader.variable_labels() )    \n",
    "\n",
    "# ‘r’ read. ‘w’ write. ‘a’ append. ‘r+’ read and write mode, which is used to handle both actions.\n",
    "with open('postulaciones.csv','w') as file:\n",
    "    file.write(my_string)   \n",
    "    file.write('\\n')        "
   ]
  },
  {
   "cell_type": "code",
   "execution_count": 5,
   "metadata": {},
   "outputs": [
    {
     "name": "stdout",
     "output_type": "stream",
     "text": [
      ".............................................................................................................................................................................................................................................................................................................................................................................................................................................................................................................................................................................................................................................................................................................................................................................................................................................................................................................................................................................................................................................................................................................................................................................................................................Total time: 209.64744806289673\n"
     ]
    }
   ],
   "source": [
    "# start y end medirán el tiempo\n",
    "start = time.time()\n",
    "\n",
    "# para cada chunk, hará lo siguiente:\n",
    "for chunk in my_stata_reader:\n",
    "    # filtrar cada chunk por `estatusfinalvinculo` y `anio`\n",
    "    #one_chunk = chunk.loc[(chunk['estatusfinalvinculo']=='COLOCADO') &\n",
    "    #                    (chunk['anio']>2016)]\n",
    "    # anexar las filas del chunk al CSV ignorando el header\n",
    "    chunk.to_csv('postulaciones.csv', mode='a', index=False, header=False)   #‘a’ append.\n",
    "    # imprimir un punto cada que anexa un chunk\n",
    "    print('.', end = '')\n",
    "end = time.time()\n",
    "print (('Total time: ') + str(end - start))"
   ]
  },
  {
   "cell_type": "code",
   "execution_count": 6,
   "metadata": {},
   "outputs": [
    {
     "name": "stdout",
     "output_type": "stream",
     "text": [
      "1603020948\n"
     ]
    }
   ],
   "source": [
    "# Verifiquemos el tamanio del CSV\n",
    "filesize= os.stat('postulaciones.csv').st_size\n",
    "print(filesize)"
   ]
  },
  {
   "cell_type": "markdown",
   "metadata": {},
   "source": [
    "<a id='read'></a>\n",
    "[Return to Table of Contents](#table)\n",
    "## Reading the CSV"
   ]
  },
  {
   "cell_type": "markdown",
   "metadata": {},
   "source": [
    "The successful use of pd.read_csv may vary because of the <b>file size, type of processor, memory, code,</b> or some other variables.\n",
    "\n",
    "If the code runs out of memory, you can try reading in chunks."
   ]
  },
  {
   "cell_type": "code",
   "execution_count": 7,
   "metadata": {
    "scrolled": true
   },
   "outputs": [
    {
     "data": {
      "text/html": [
       "<div>\n",
       "<style scoped>\n",
       "    .dataframe tbody tr th:only-of-type {\n",
       "        vertical-align: middle;\n",
       "    }\n",
       "\n",
       "    .dataframe tbody tr th {\n",
       "        vertical-align: top;\n",
       "    }\n",
       "\n",
       "    .dataframe thead th {\n",
       "        text-align: right;\n",
       "    }\n",
       "</style>\n",
       "<table border=\"1\" class=\"dataframe\">\n",
       "  <thead>\n",
       "    <tr style=\"text-align: right;\">\n",
       "      <th></th>\n",
       "      <th>trac_id</th>\n",
       "      <th>id_solicitante</th>\n",
       "      <th>id_oferta_empleo</th>\n",
       "      <th>id_empresa</th>\n",
       "      <th>fecha_vinculo</th>\n",
       "      <th>tipo_vinculo</th>\n",
       "      <th>fechainiciovacante</th>\n",
       "      <th>fecha_finalvinculo</th>\n",
       "      <th>estatusfinalvinculo</th>\n",
       "      <th>subprograma</th>\n",
       "      <th>fuente</th>\n",
       "      <th>anio</th>\n",
       "    </tr>\n",
       "  </thead>\n",
       "  <tbody>\n",
       "    <tr>\n",
       "      <th>0</th>\n",
       "      <td>12000.0</td>\n",
       "      <td>14902401.0</td>\n",
       "      <td>30309</td>\n",
       "      <td>11908.0</td>\n",
       "      <td>2016-02-13 14:05:27</td>\n",
       "      <td>INSCRIPCION</td>\n",
       "      <td>2016-03-13 00:00:00</td>\n",
       "      <td>2016-02-17 00:00:00</td>\n",
       "      <td>COLOCADO</td>\n",
       "      <td>MOV LAB INT</td>\n",
       "      <td>SISPAEW</td>\n",
       "      <td>2016</td>\n",
       "    </tr>\n",
       "  </tbody>\n",
       "</table>\n",
       "</div>"
      ],
      "text/plain": [
       "   trac_id  id_solicitante  id_oferta_empleo  id_empresa        fecha_vinculo  \\\n",
       "0  12000.0      14902401.0             30309     11908.0  2016-02-13 14:05:27   \n",
       "\n",
       "  tipo_vinculo   fechainiciovacante   fecha_finalvinculo estatusfinalvinculo  \\\n",
       "0  INSCRIPCION  2016-03-13 00:00:00  2016-02-17 00:00:00            COLOCADO   \n",
       "\n",
       "   subprograma   fuente  anio  \n",
       "0  MOV LAB INT  SISPAEW  2016  "
      ]
     },
     "execution_count": 7,
     "metadata": {},
     "output_type": "execute_result"
    }
   ],
   "source": [
    "postulaciones = pd.read_csv('postulaciones.csv')\n",
    "postulaciones.head(1)"
   ]
  },
  {
   "cell_type": "markdown",
   "metadata": {},
   "source": [
    "<a id='copies'></a>\n",
    "[Return to Table of Contents](#table)\n",
    "## Making copies\n",
    "\n",
    "The first step before any cleaning is **always make copies**"
   ]
  },
  {
   "cell_type": "code",
   "execution_count": 23,
   "metadata": {},
   "outputs": [],
   "source": [
    "postulaciones_clean = postulaciones.copy()"
   ]
  },
  {
   "cell_type": "markdown",
   "metadata": {},
   "source": [
    "<a id='explore'></a>\n",
    "[Return to Table of Contents](#table)\n",
    "## Exploring the table\n"
   ]
  },
  {
   "cell_type": "code",
   "execution_count": 4,
   "metadata": {},
   "outputs": [
    {
     "data": {
      "text/html": [
       "<div>\n",
       "<style scoped>\n",
       "    .dataframe tbody tr th:only-of-type {\n",
       "        vertical-align: middle;\n",
       "    }\n",
       "\n",
       "    .dataframe tbody tr th {\n",
       "        vertical-align: top;\n",
       "    }\n",
       "\n",
       "    .dataframe thead th {\n",
       "        text-align: right;\n",
       "    }\n",
       "</style>\n",
       "<table border=\"1\" class=\"dataframe\">\n",
       "  <thead>\n",
       "    <tr style=\"text-align: right;\">\n",
       "      <th></th>\n",
       "      <th>trac_id</th>\n",
       "      <th>id_solicitante</th>\n",
       "      <th>id_oferta_empleo</th>\n",
       "      <th>id_empresa</th>\n",
       "      <th>fecha_vinculo</th>\n",
       "      <th>tipo_vinculo</th>\n",
       "      <th>fechainiciovacante</th>\n",
       "      <th>fecha_finalvinculo</th>\n",
       "      <th>estatusfinalvinculo</th>\n",
       "      <th>subprograma</th>\n",
       "      <th>fuente</th>\n",
       "      <th>anio</th>\n",
       "    </tr>\n",
       "  </thead>\n",
       "  <tbody>\n",
       "    <tr>\n",
       "      <th>0</th>\n",
       "      <td>0.0</td>\n",
       "      <td>1.198323e+09</td>\n",
       "      <td>3179751</td>\n",
       "      <td>15079350.0</td>\n",
       "      <td>2017-08-18 00:00:00</td>\n",
       "      <td>PUSTULACIÃN</td>\n",
       "      <td>2017-08-17 00:00:00</td>\n",
       "      <td>2017-11-20 00:00:10</td>\n",
       "      <td>NO COLOCADO</td>\n",
       "      <td>PORTAL</td>\n",
       "      <td>SVL</td>\n",
       "      <td>2017</td>\n",
       "    </tr>\n",
       "    <tr>\n",
       "      <th>1</th>\n",
       "      <td>0.0</td>\n",
       "      <td>9.774188e+08</td>\n",
       "      <td>2995863</td>\n",
       "      <td>77042.0</td>\n",
       "      <td>2017-05-04 00:00:00</td>\n",
       "      <td>PUSTULACIÃN</td>\n",
       "      <td>2017-05-03 00:00:00</td>\n",
       "      <td>2017-08-03 04:01:05</td>\n",
       "      <td>NO COLOCADO</td>\n",
       "      <td>PORTAL</td>\n",
       "      <td>SVL</td>\n",
       "      <td>2017</td>\n",
       "    </tr>\n",
       "    <tr>\n",
       "      <th>2</th>\n",
       "      <td>0.0</td>\n",
       "      <td>1.144184e+09</td>\n",
       "      <td>3082566</td>\n",
       "      <td>15566424.0</td>\n",
       "      <td>2017-07-01 00:00:00</td>\n",
       "      <td>PUSTULACIÃN</td>\n",
       "      <td>2017-06-21 00:00:00</td>\n",
       "      <td>2017-09-30 13:54:38</td>\n",
       "      <td>NO COLOCADO</td>\n",
       "      <td>PORTAL</td>\n",
       "      <td>SVL</td>\n",
       "      <td>2017</td>\n",
       "    </tr>\n",
       "    <tr>\n",
       "      <th>3</th>\n",
       "      <td>0.0</td>\n",
       "      <td>8.089237e+08</td>\n",
       "      <td>3105248</td>\n",
       "      <td>147780.0</td>\n",
       "      <td>2017-07-14 00:00:00</td>\n",
       "      <td>PUSTULACIÃN</td>\n",
       "      <td>2017-07-03 00:00:00</td>\n",
       "      <td>2017-10-13 04:01:27</td>\n",
       "      <td>NO COLOCADO</td>\n",
       "      <td>PORTAL</td>\n",
       "      <td>SVL</td>\n",
       "      <td>2017</td>\n",
       "    </tr>\n",
       "    <tr>\n",
       "      <th>4</th>\n",
       "      <td>0.0</td>\n",
       "      <td>8.588266e+08</td>\n",
       "      <td>3138907</td>\n",
       "      <td>24086.0</td>\n",
       "      <td>2017-08-01 00:00:00</td>\n",
       "      <td>PUSTULACIÃN</td>\n",
       "      <td>2018-04-02 00:00:00</td>\n",
       "      <td>2017-11-11 00:03:17</td>\n",
       "      <td>NO COLOCADO</td>\n",
       "      <td>PORTAL</td>\n",
       "      <td>SVL</td>\n",
       "      <td>2017</td>\n",
       "    </tr>\n",
       "  </tbody>\n",
       "</table>\n",
       "</div>"
      ],
      "text/plain": [
       "   trac_id  id_solicitante  id_oferta_empleo  id_empresa        fecha_vinculo  \\\n",
       "0      0.0    1.198323e+09           3179751  15079350.0  2017-08-18 00:00:00   \n",
       "1      0.0    9.774188e+08           2995863     77042.0  2017-05-04 00:00:00   \n",
       "2      0.0    1.144184e+09           3082566  15566424.0  2017-07-01 00:00:00   \n",
       "3      0.0    8.089237e+08           3105248    147780.0  2017-07-14 00:00:00   \n",
       "4      0.0    8.588266e+08           3138907     24086.0  2017-08-01 00:00:00   \n",
       "\n",
       "   tipo_vinculo   fechainiciovacante   fecha_finalvinculo estatusfinalvinculo  \\\n",
       "0  PUSTULACIÃN  2017-08-17 00:00:00  2017-11-20 00:00:10         NO COLOCADO   \n",
       "1  PUSTULACIÃN  2017-05-03 00:00:00  2017-08-03 04:01:05         NO COLOCADO   \n",
       "2  PUSTULACIÃN  2017-06-21 00:00:00  2017-09-30 13:54:38         NO COLOCADO   \n",
       "3  PUSTULACIÃN  2017-07-03 00:00:00  2017-10-13 04:01:27         NO COLOCADO   \n",
       "4  PUSTULACIÃN  2018-04-02 00:00:00  2017-11-11 00:03:17         NO COLOCADO   \n",
       "\n",
       "  subprograma fuente  anio  \n",
       "0      PORTAL    SVL  2017  \n",
       "1      PORTAL    SVL  2017  \n",
       "2      PORTAL    SVL  2017  \n",
       "3      PORTAL    SVL  2017  \n",
       "4      PORTAL    SVL  2017  "
      ]
     },
     "execution_count": 4,
     "metadata": {},
     "output_type": "execute_result"
    }
   ],
   "source": [
    "postulaciones_clean.head()"
   ]
  },
  {
   "cell_type": "code",
   "execution_count": 5,
   "metadata": {},
   "outputs": [
    {
     "data": {
      "text/plain": [
       "trac_id                     66\n",
       "id_solicitante         1423232\n",
       "id_oferta_empleo        723911\n",
       "id_empresa              112753\n",
       "fecha_vinculo             1157\n",
       "tipo_vinculo                 3\n",
       "fechainiciovacante         989\n",
       "fecha_finalvinculo     1502944\n",
       "estatusfinalvinculo          2\n",
       "subprograma                  7\n",
       "fuente                       2\n",
       "anio                         2\n",
       "dtype: int64"
      ]
     },
     "execution_count": 5,
     "metadata": {},
     "output_type": "execute_result"
    }
   ],
   "source": [
    "postulaciones_clean.nunique()"
   ]
  },
  {
   "cell_type": "code",
   "execution_count": 6,
   "metadata": {},
   "outputs": [
    {
     "name": "stdout",
     "output_type": "stream",
     "text": [
      "<class 'pandas.core.frame.DataFrame'>\n",
      "RangeIndex: 6283233 entries, 0 to 6283232\n",
      "Data columns (total 12 columns):\n",
      "trac_id                float64\n",
      "id_solicitante         float64\n",
      "id_oferta_empleo       int64\n",
      "id_empresa             float64\n",
      "fecha_vinculo          object\n",
      "tipo_vinculo           object\n",
      "fechainiciovacante     object\n",
      "fecha_finalvinculo     object\n",
      "estatusfinalvinculo    object\n",
      "subprograma            object\n",
      "fuente                 object\n",
      "anio                   int64\n",
      "dtypes: float64(3), int64(2), object(7)\n",
      "memory usage: 575.2+ MB\n"
     ]
    }
   ],
   "source": [
    "postulaciones.info()"
   ]
  },
  {
   "cell_type": "code",
   "execution_count": 1,
   "metadata": {},
   "outputs": [
    {
     "data": {
      "text/plain": [
       "78"
      ]
     },
     "execution_count": 1,
     "metadata": {},
     "output_type": "execute_result"
    }
   ],
   "source": [
    "6283233 - 6283155"
   ]
  },
  {
   "cell_type": "code",
   "execution_count": 7,
   "metadata": {},
   "outputs": [
    {
     "data": {
      "text/plain": [
       "0.0        6283155\n",
       "37692.0          6\n",
       "79508.0          5\n",
       "66947.0          2\n",
       "244.0            2\n",
       "32462.0          2\n",
       "75247.0          2\n",
       "11847.0          1\n",
       "11890.0          1\n",
       "11947.0          1\n",
       "32731.0          1\n",
       "33600.0          1\n",
       "33540.0          1\n",
       "2963.0           1\n",
       "33649.0          1\n",
       "33806.0          1\n",
       "33931.0          1\n",
       "33939.0          1\n",
       "7567.0           1\n",
       "1558.0           1\n",
       "2962.0           1\n",
       "1637.0           1\n",
       "34358.0          1\n",
       "1112.0           1\n",
       "1108.0           1\n",
       "1099.0           1\n",
       "869.0            1\n",
       "640.0            1\n",
       "463.0            1\n",
       "366.0            1\n",
       "            ...   \n",
       "34879.0          1\n",
       "80227.0          1\n",
       "79755.0          1\n",
       "75747.0          1\n",
       "75702.0          1\n",
       "75637.0          1\n",
       "75534.0          1\n",
       "75101.0          1\n",
       "75067.0          1\n",
       "66882.0          1\n",
       "66645.0          1\n",
       "56319.0          1\n",
       "56271.0          1\n",
       "56178.0          1\n",
       "55889.0          1\n",
       "55887.0          1\n",
       "53544.0          1\n",
       "53386.0          1\n",
       "53304.0          1\n",
       "38790.0          1\n",
       "38382.0          1\n",
       "38135.0          1\n",
       "38134.0          1\n",
       "38048.0          1\n",
       "37649.0          1\n",
       "37538.0          1\n",
       "37451.0          1\n",
       "37379.0          1\n",
       "36879.0          1\n",
       "36370.0          1\n",
       "Name: trac_id, Length: 66, dtype: int64"
      ]
     },
     "execution_count": 7,
     "metadata": {},
     "output_type": "execute_result"
    }
   ],
   "source": [
    "postulaciones['trac_id'].value_counts()"
   ]
  },
  {
   "cell_type": "code",
   "execution_count": 8,
   "metadata": {},
   "outputs": [
    {
     "data": {
      "text/plain": [
       "array(['SVL'], dtype=object)"
      ]
     },
     "execution_count": 8,
     "metadata": {},
     "output_type": "execute_result"
    }
   ],
   "source": [
    "postulaciones[postulaciones['trac_id']==0]['fuente'].unique()"
   ]
  },
  {
   "cell_type": "markdown",
   "metadata": {},
   "source": [
    "Todas las postulaciones con `trac_id` = 0, tienen una única fuente: SVL"
   ]
  },
  {
   "cell_type": "code",
   "execution_count": 9,
   "metadata": {},
   "outputs": [
    {
     "data": {
      "text/plain": [
       "array(['SISPAEW'], dtype=object)"
      ]
     },
     "execution_count": 9,
     "metadata": {},
     "output_type": "execute_result"
    }
   ],
   "source": [
    "postulaciones[postulaciones['trac_id']!=0]['fuente'].unique()"
   ]
  },
  {
   "cell_type": "markdown",
   "metadata": {},
   "source": [
    "Todas las postulaciones con `trac_id` diferente de 0, tienen una única fuente: SISPAEW"
   ]
  },
  {
   "cell_type": "code",
   "execution_count": 10,
   "metadata": {},
   "outputs": [
    {
     "data": {
      "text/plain": [
       "array(['PUSTULACIÃ\\x93N', 'ENVÃ\\x8dO', 'INSCRIPCION'], dtype=object)"
      ]
     },
     "execution_count": 10,
     "metadata": {},
     "output_type": "execute_result"
    }
   ],
   "source": [
    "postulaciones['tipo_vinculo'].unique()"
   ]
  },
  {
   "cell_type": "markdown",
   "metadata": {},
   "source": [
    "Hay 3 tipos de vínculos: postulación, envío e inscripción. Hay que arreglar los textos"
   ]
  },
  {
   "cell_type": "markdown",
   "metadata": {},
   "source": [
    "<a id='clean'></a>\n",
    "[Return to Table of Contents](#table)\n",
    "## Assesment and cleaning\n",
    "#### Quality changes\n",
    "1. [Not relevant columns must be removed](#drop_cols)\n",
    "2. ['trac_id','id_solicitante', and 'id_empresa' have wrong datatype](#to_int)\n",
    "3. ['tipo_vinculo' values have errors from the encoding](#tipo_vinculo) \n",
    "\n",
    "#### Tidiness changes\n",
    "Not a single so far."
   ]
  },
  {
   "cell_type": "markdown",
   "metadata": {},
   "source": [
    "<a id='drop_cols'></a>\n",
    "### 1. Not relevant columns must be removed\n",
    "The columns `fechainiciovacante, fecha_finalvinculo, fuente` are not relevant for the final research. These columns will be deleted with the df.drop function"
   ]
  },
  {
   "cell_type": "code",
   "execution_count": 24,
   "metadata": {},
   "outputs": [
    {
     "data": {
      "text/plain": [
       "array(['trac_id', 'id_solicitante', 'id_oferta_empleo', 'id_empresa',\n",
       "       'fecha_vinculo', 'tipo_vinculo', 'estatusfinalvinculo',\n",
       "       'subprograma', 'anio'], dtype=object)"
      ]
     },
     "execution_count": 24,
     "metadata": {},
     "output_type": "execute_result"
    }
   ],
   "source": [
    "# where 1 is the axis number (0 for rows and 1 for columns.)\n",
    "postulaciones_clean = postulaciones_clean.drop(['fechainiciovacante', 'fecha_finalvinculo', 'fuente'],1)\n",
    "\n",
    "# Verify the selected columns have been removed \n",
    "postulaciones_clean.columns.get_values()"
   ]
  },
  {
   "cell_type": "markdown",
   "metadata": {},
   "source": [
    "<a id='to_int'></a>\n",
    "### 2. 'trac_id','id_solicitante', and 'id_empresa' have wrong datatype\n",
    "Must be changed from float64 to int"
   ]
  },
  {
   "cell_type": "code",
   "execution_count": 25,
   "metadata": {},
   "outputs": [],
   "source": [
    "postulaciones_clean['trac_id'] =  postulaciones_clean['trac_id'].astype(int)\n",
    "postulaciones_clean['id_solicitante'] =  postulaciones_clean['id_solicitante'].astype(int)\n",
    "postulaciones_clean['id_empresa'] =  postulaciones_clean['id_empresa'].astype(int)"
   ]
  },
  {
   "cell_type": "code",
   "execution_count": 26,
   "metadata": {},
   "outputs": [
    {
     "name": "stdout",
     "output_type": "stream",
     "text": [
      "<class 'pandas.core.frame.DataFrame'>\n",
      "RangeIndex: 6283233 entries, 0 to 6283232\n",
      "Data columns (total 9 columns):\n",
      "trac_id                int64\n",
      "id_solicitante         int64\n",
      "id_oferta_empleo       int64\n",
      "id_empresa             int64\n",
      "fecha_vinculo          object\n",
      "tipo_vinculo           object\n",
      "estatusfinalvinculo    object\n",
      "subprograma            object\n",
      "anio                   int64\n",
      "dtypes: int64(5), object(4)\n",
      "memory usage: 431.4+ MB\n"
     ]
    }
   ],
   "source": [
    "# Verify new datatype\n",
    "postulaciones_clean.info()"
   ]
  },
  {
   "cell_type": "markdown",
   "metadata": {},
   "source": [
    "<a id='tipo_vinculo'></a>\n",
    "### 3. tipo_vinculo values have errors from the encoding\n",
    "Write 'POSTULACION' instead of 'PUSTULACIÃ\\x93N' and 'ENVIO' instead of 'ENVÃ\\x8dO'. \n",
    "\n",
    "Use the replace function and regular expressions (regex)"
   ]
  },
  {
   "cell_type": "code",
   "execution_count": 33,
   "metadata": {},
   "outputs": [],
   "source": [
    "postulaciones_clean = postulaciones_clean.replace({'tipo_vinculo':r'(PUSTULAC).*(N)$'}, {'tipo_vinculo':'POSTULACIÓN'}, regex=True)\n",
    "postulaciones_clean = postulaciones_clean.replace({'tipo_vinculo':r'(ENV).*(O)$'}, {'tipo_vinculo':'ENVÍO'}, regex=True)\n",
    "postulaciones_clean = postulaciones_clean.replace({'tipo_vinculo':r'INSCRIPCION'}, {'tipo_vinculo':'INSCRIPCIÓN'}, regex=True)"
   ]
  },
  {
   "cell_type": "code",
   "execution_count": 34,
   "metadata": {},
   "outputs": [
    {
     "data": {
      "text/plain": [
       "array(['POSTULACIÓN', 'ENVÍO', 'INSCRIPCIÓN'], dtype=object)"
      ]
     },
     "execution_count": 34,
     "metadata": {},
     "output_type": "execute_result"
    }
   ],
   "source": [
    "# Verify tipo_vinculo\n",
    "postulaciones_clean['tipo_vinculo'].unique()"
   ]
  },
  {
   "cell_type": "markdown",
   "metadata": {},
   "source": [
    "<a id='store'></a>\n",
    "[Return to Table of Contents](#table)\n",
    "## Storing Data\n",
    "\n",
    "First, we'll get a sample of `postulaciones` to verify it is the way we need it."
   ]
  },
  {
   "cell_type": "code",
   "execution_count": 45,
   "metadata": {},
   "outputs": [
    {
     "data": {
      "text/html": [
       "<div>\n",
       "<style scoped>\n",
       "    .dataframe tbody tr th:only-of-type {\n",
       "        vertical-align: middle;\n",
       "    }\n",
       "\n",
       "    .dataframe tbody tr th {\n",
       "        vertical-align: top;\n",
       "    }\n",
       "\n",
       "    .dataframe thead th {\n",
       "        text-align: right;\n",
       "    }\n",
       "</style>\n",
       "<table border=\"1\" class=\"dataframe\">\n",
       "  <thead>\n",
       "    <tr style=\"text-align: right;\">\n",
       "      <th></th>\n",
       "      <th>trac_id</th>\n",
       "      <th>id_solicitante</th>\n",
       "      <th>id_oferta_empleo</th>\n",
       "      <th>id_empresa</th>\n",
       "      <th>fecha_vinculo</th>\n",
       "      <th>tipo_vinculo</th>\n",
       "      <th>estatusfinalvinculo</th>\n",
       "      <th>subprograma</th>\n",
       "      <th>anio</th>\n",
       "    </tr>\n",
       "  </thead>\n",
       "  <tbody>\n",
       "    <tr>\n",
       "      <th>3224398</th>\n",
       "      <td>0</td>\n",
       "      <td>1187756002</td>\n",
       "      <td>2714017</td>\n",
       "      <td>15507290</td>\n",
       "      <td>2016-11-14 00:00:00</td>\n",
       "      <td>POSTULACIÓN</td>\n",
       "      <td>NO COLOCADO</td>\n",
       "      <td>PORTAL</td>\n",
       "      <td>2016</td>\n",
       "    </tr>\n",
       "    <tr>\n",
       "      <th>2649748</th>\n",
       "      <td>0</td>\n",
       "      <td>1095811502</td>\n",
       "      <td>2535242</td>\n",
       "      <td>15444673</td>\n",
       "      <td>2016-08-22 00:00:00</td>\n",
       "      <td>POSTULACIÓN</td>\n",
       "      <td>NO COLOCADO</td>\n",
       "      <td>SIISNE</td>\n",
       "      <td>2016</td>\n",
       "    </tr>\n",
       "    <tr>\n",
       "      <th>4107751</th>\n",
       "      <td>0</td>\n",
       "      <td>789287302</td>\n",
       "      <td>2498729</td>\n",
       "      <td>15422330</td>\n",
       "      <td>2016-07-25 00:00:00</td>\n",
       "      <td>POSTULACIÓN</td>\n",
       "      <td>NO COLOCADO</td>\n",
       "      <td>PORTAL</td>\n",
       "      <td>2016</td>\n",
       "    </tr>\n",
       "    <tr>\n",
       "      <th>963955</th>\n",
       "      <td>0</td>\n",
       "      <td>668813902</td>\n",
       "      <td>2604158</td>\n",
       "      <td>15097325</td>\n",
       "      <td>2016-09-17 00:00:00</td>\n",
       "      <td>POSTULACIÓN</td>\n",
       "      <td>NO COLOCADO</td>\n",
       "      <td>PORTAL</td>\n",
       "      <td>2016</td>\n",
       "    </tr>\n",
       "    <tr>\n",
       "      <th>5309524</th>\n",
       "      <td>0</td>\n",
       "      <td>1057416702</td>\n",
       "      <td>2654024</td>\n",
       "      <td>15486132</td>\n",
       "      <td>2016-10-18 00:00:00</td>\n",
       "      <td>POSTULACIÓN</td>\n",
       "      <td>COLOCADO</td>\n",
       "      <td>FERIAS</td>\n",
       "      <td>2016</td>\n",
       "    </tr>\n",
       "  </tbody>\n",
       "</table>\n",
       "</div>"
      ],
      "text/plain": [
       "         trac_id  id_solicitante  id_oferta_empleo  id_empresa  \\\n",
       "3224398        0      1187756002           2714017    15507290   \n",
       "2649748        0      1095811502           2535242    15444673   \n",
       "4107751        0       789287302           2498729    15422330   \n",
       "963955         0       668813902           2604158    15097325   \n",
       "5309524        0      1057416702           2654024    15486132   \n",
       "\n",
       "               fecha_vinculo tipo_vinculo estatusfinalvinculo subprograma  \\\n",
       "3224398  2016-11-14 00:00:00  POSTULACIÓN         NO COLOCADO      PORTAL   \n",
       "2649748  2016-08-22 00:00:00  POSTULACIÓN         NO COLOCADO      SIISNE   \n",
       "4107751  2016-07-25 00:00:00  POSTULACIÓN         NO COLOCADO      PORTAL   \n",
       "963955   2016-09-17 00:00:00  POSTULACIÓN         NO COLOCADO      PORTAL   \n",
       "5309524  2016-10-18 00:00:00  POSTULACIÓN            COLOCADO      FERIAS   \n",
       "\n",
       "         anio  \n",
       "3224398  2016  \n",
       "2649748  2016  \n",
       "4107751  2016  \n",
       "963955   2016  \n",
       "5309524  2016  "
      ]
     },
     "execution_count": 45,
     "metadata": {},
     "output_type": "execute_result"
    }
   ],
   "source": [
    "postulaciones_clean.sample(5)"
   ]
  },
  {
   "cell_type": "markdown",
   "metadata": {},
   "source": [
    "Then proceed to save it. Make sure to specify index=False and utf-8 encoding.\n",
    "\n",
    "utf-8 ensures that special characters in Spanish as accents and ñ will be saved."
   ]
  },
  {
   "cell_type": "code",
   "execution_count": 36,
   "metadata": {},
   "outputs": [],
   "source": [
    "postulaciones_clean.to_csv('postulaciones_clean.csv', index=False, encoding='utf-8')"
   ]
  },
  {
   "cell_type": "markdown",
   "metadata": {},
   "source": [
    "<a id='colocacion'></a>\n",
    "[Return to Table of Contents](#table)\n",
    "## Analysis and visualization\n",
    "After wrangling and cleaning data from `postulaciones` we can try some univariate exploration.\n",
    "\n",
    "In this first attempt we are not adding the gender variable yet."
   ]
  },
  {
   "cell_type": "code",
   "execution_count": 5,
   "metadata": {},
   "outputs": [
    {
     "data": {
      "text/html": [
       "<div>\n",
       "<style scoped>\n",
       "    .dataframe tbody tr th:only-of-type {\n",
       "        vertical-align: middle;\n",
       "    }\n",
       "\n",
       "    .dataframe tbody tr th {\n",
       "        vertical-align: top;\n",
       "    }\n",
       "\n",
       "    .dataframe thead th {\n",
       "        text-align: right;\n",
       "    }\n",
       "</style>\n",
       "<table border=\"1\" class=\"dataframe\">\n",
       "  <thead>\n",
       "    <tr style=\"text-align: right;\">\n",
       "      <th></th>\n",
       "      <th>trac_id</th>\n",
       "      <th>id_solicitante</th>\n",
       "      <th>id_oferta_empleo</th>\n",
       "      <th>id_empresa</th>\n",
       "      <th>fecha_vinculo</th>\n",
       "      <th>tipo_vinculo</th>\n",
       "      <th>estatusfinalvinculo</th>\n",
       "      <th>subprograma</th>\n",
       "      <th>anio</th>\n",
       "    </tr>\n",
       "  </thead>\n",
       "  <tbody>\n",
       "    <tr>\n",
       "      <th>0</th>\n",
       "      <td>0</td>\n",
       "      <td>1198322602</td>\n",
       "      <td>3179751</td>\n",
       "      <td>15079350</td>\n",
       "      <td>2017-08-18 00:00:00</td>\n",
       "      <td>POSTULACIÓN</td>\n",
       "      <td>NO COLOCADO</td>\n",
       "      <td>PORTAL</td>\n",
       "      <td>2017</td>\n",
       "    </tr>\n",
       "    <tr>\n",
       "      <th>1</th>\n",
       "      <td>0</td>\n",
       "      <td>977418802</td>\n",
       "      <td>2995863</td>\n",
       "      <td>77042</td>\n",
       "      <td>2017-05-04 00:00:00</td>\n",
       "      <td>POSTULACIÓN</td>\n",
       "      <td>NO COLOCADO</td>\n",
       "      <td>PORTAL</td>\n",
       "      <td>2017</td>\n",
       "    </tr>\n",
       "    <tr>\n",
       "      <th>2</th>\n",
       "      <td>0</td>\n",
       "      <td>1144183502</td>\n",
       "      <td>3082566</td>\n",
       "      <td>15566424</td>\n",
       "      <td>2017-07-01 00:00:00</td>\n",
       "      <td>POSTULACIÓN</td>\n",
       "      <td>NO COLOCADO</td>\n",
       "      <td>PORTAL</td>\n",
       "      <td>2017</td>\n",
       "    </tr>\n",
       "    <tr>\n",
       "      <th>3</th>\n",
       "      <td>0</td>\n",
       "      <td>808923702</td>\n",
       "      <td>3105248</td>\n",
       "      <td>147780</td>\n",
       "      <td>2017-07-14 00:00:00</td>\n",
       "      <td>POSTULACIÓN</td>\n",
       "      <td>NO COLOCADO</td>\n",
       "      <td>PORTAL</td>\n",
       "      <td>2017</td>\n",
       "    </tr>\n",
       "    <tr>\n",
       "      <th>4</th>\n",
       "      <td>0</td>\n",
       "      <td>858826602</td>\n",
       "      <td>3138907</td>\n",
       "      <td>24086</td>\n",
       "      <td>2017-08-01 00:00:00</td>\n",
       "      <td>POSTULACIÓN</td>\n",
       "      <td>NO COLOCADO</td>\n",
       "      <td>PORTAL</td>\n",
       "      <td>2017</td>\n",
       "    </tr>\n",
       "  </tbody>\n",
       "</table>\n",
       "</div>"
      ],
      "text/plain": [
       "   trac_id  id_solicitante  id_oferta_empleo  id_empresa        fecha_vinculo  \\\n",
       "0        0      1198322602           3179751    15079350  2017-08-18 00:00:00   \n",
       "1        0       977418802           2995863       77042  2017-05-04 00:00:00   \n",
       "2        0      1144183502           3082566    15566424  2017-07-01 00:00:00   \n",
       "3        0       808923702           3105248      147780  2017-07-14 00:00:00   \n",
       "4        0       858826602           3138907       24086  2017-08-01 00:00:00   \n",
       "\n",
       "  tipo_vinculo estatusfinalvinculo subprograma  anio  \n",
       "0  POSTULACIÓN         NO COLOCADO      PORTAL  2017  \n",
       "1  POSTULACIÓN         NO COLOCADO      PORTAL  2017  \n",
       "2  POSTULACIÓN         NO COLOCADO      PORTAL  2017  \n",
       "3  POSTULACIÓN         NO COLOCADO      PORTAL  2017  \n",
       "4  POSTULACIÓN         NO COLOCADO      PORTAL  2017  "
      ]
     },
     "execution_count": 5,
     "metadata": {},
     "output_type": "execute_result"
    }
   ],
   "source": [
    "# Run this line if you don't have the dataframe postulaciones_clean\n",
    "postulaciones_clean = pd.read_csv('postulaciones_clean.csv', encoding='utf-8')"
   ]
  },
  {
   "cell_type": "markdown",
   "metadata": {},
   "source": [
    "### ¿Cuál es el porcentaje de colocación?"
   ]
  },
  {
   "cell_type": "code",
   "execution_count": 3,
   "metadata": {},
   "outputs": [
    {
     "data": {
      "image/png": "[encoded data removed]",
      "text/plain": [
       "<Figure size 432x288 with 1 Axes>"
      ]
     },
     "metadata": {},
     "output_type": "display_data"
    }
   ],
   "source": [
    "postulaciones_clean['estatusfinalvinculo'].value_counts().plot(kind = 'pie', startangle=90, autopct='%1.1f%%')\n",
    "plt.axis('square')\n",
    "plt.title('¿Cuál es el porcentaje de colocación?')\n",
    "plt.ylabel('');"
   ]
  },
  {
   "cell_type": "markdown",
   "metadata": {},
   "source": [
    "<a id='programa'></a>\n",
    "[Return to Table of Contents](#table)\n",
    "### ¿En cuáles programas se originan las postulaciones?\n"
   ]
  },
  {
   "cell_type": "code",
   "execution_count": 4,
   "metadata": {},
   "outputs": [
    {
     "data": {
      "text/plain": [
       "PORTAL               4840986\n",
       "SIISNE               1246746\n",
       "FERIAS                191840\n",
       "Abriendo Espacios       3565\n",
       "BECATE                    49\n",
       "MOV LAB INT               29\n",
       "OTRO                      18\n",
       "Name: subprograma, dtype: int64"
      ]
     },
     "execution_count": 4,
     "metadata": {},
     "output_type": "execute_result"
    }
   ],
   "source": [
    "subprogramas_count = postulaciones_clean['subprograma'].value_counts()\n",
    "subprogramas_count"
   ]
  },
  {
   "cell_type": "code",
   "execution_count": 7,
   "metadata": {},
   "outputs": [
    {
     "data": {
      "image/png": "[encoded data removed]",
      "text/plain": [
       "<Figure size 720x360 with 1 Axes>"
      ]
     },
     "metadata": {},
     "output_type": "display_data"
    }
   ],
   "source": [
    "subprogramas_count.plot(kind = 'barh', figsize=(10,5))\n",
    "plt.title('¿En cuáles programas se originan las postulaciones?')\n",
    "plt.xlabel('Postulaciones [millones]')\n",
    "xticklocs = np.arange(1000000, 5000001, 1000000) #(start of interval, end of interval, spacing between values)\n",
    "xticknames = [1,2,3,4,5]\n",
    "plt.xticks(xticklocs, xticknames);"
   ]
  },
  {
   "cell_type": "markdown",
   "metadata": {},
   "source": [
    "<a id='vinculo'></a>\n",
    "[Return to Table of Contents](#table)\n",
    "### ¿Qué proporciones tienen los diferentes vínculos?\n"
   ]
  },
  {
   "cell_type": "code",
   "execution_count": 13,
   "metadata": {},
   "outputs": [
    {
     "data": {
      "text/plain": [
       "POSTULACIÓN    5897688\n",
       "ENVÍO           385467\n",
       "INSCRIPCIÓN         78\n",
       "Name: tipo_vinculo, dtype: int64"
      ]
     },
     "execution_count": 13,
     "metadata": {},
     "output_type": "execute_result"
    }
   ],
   "source": [
    "vinculos_count = postulaciones_clean['tipo_vinculo'].value_counts()\n",
    "vinculos_count"
   ]
  },
  {
   "cell_type": "code",
   "execution_count": 16,
   "metadata": {},
   "outputs": [
    {
     "data": {
      "image/png": "[encoded data removed]",
      "text/plain": [
       "<Figure size 720x360 with 1 Axes>"
      ]
     },
     "metadata": {},
     "output_type": "display_data"
    }
   ],
   "source": [
    "vinculos_count.plot(kind = 'barh', figsize=(10,5))\n",
    "plt.title('¿Qué proporciones tienen los diferentes vínculos?')\n",
    "plt.xlabel('Postulaciones [millones]')\n",
    "xticklocs = np.arange(1000000, 6000001, 1000000) #(start of interval, end of interval, spacing between values)\n",
    "xticknames = [1,2,3,4,5,6]\n",
    "plt.xticks(xticklocs, xticknames);"
   ]
  },
  {
   "cell_type": "markdown",
   "metadata": {},
   "source": [
    "## References\n",
    "Maximum size of pandas dataframe\n",
    "- https://stackoverflow.com/questions/23569771/maximum-size-of-pandas-dataframe\n",
    "\n",
    "Regex\n",
    "- https://regexone.com/\n",
    "- https://stackoverflow.com/questions/9947038/how-can-i-match-the-start-and-end-in-pythons-regex\n"
   ]
  },
  {
   "cell_type": "code",
   "execution_count": null,
   "metadata": {},
   "outputs": [],
   "source": []
  }
 ],
 "metadata": {
  "kernelspec": {
   "display_name": "Python [conda env:anaconda3]",
   "language": "python",
   "name": "conda-env-anaconda3-py"
  },
  "language_info": {
   "codemirror_mode": {
    "name": "ipython",
    "version": 3
   },
   "file_extension": ".py",
   "mimetype": "text/x-python",
   "name": "python",
   "nbconvert_exporter": "python",
   "pygments_lexer": "ipython3",
   "version": "3.6.5"
  }
 },
 "nbformat": 4,
 "nbformat_minor": 2
}
