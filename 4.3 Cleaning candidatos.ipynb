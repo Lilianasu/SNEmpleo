{
 "cells": [
  {
   "cell_type": "markdown",
   "metadata": {},
   "source": [
    "# Cleaning candidatos"
   ]
  },
  {
   "cell_type": "markdown",
   "metadata": {},
   "source": [
    "<a id = 'table'> </a>\n",
    "## Table of contents\n",
    "\n",
    "- Part I - Gathering the data\n",
    "    - [Key Points](#key)\n",
    "    - [Converting DTA to CSV file](#dta)\n",
    "    - [Reading the CSV file](#read)    \n",
    "\n",
    "- Part II - Assessing and cleaning\n",
    "    - [Exploring the table](#explore)\n",
    "    - [Making copies](#copies)\n",
    "    - [Assesment and cleaning](#clean)\n",
    "    - [Storing Data](#store)\n",
    "    \n",
    "- Part III - Analysis and visualization\n",
    "    - [¿Cuál es el porcentaje de colocación?](#estados)\n",
    "    - [¿En cuáles programas se originan las postulaciones?](#programa)\n",
    "    - [Estatus final de vínculo](#vinculo)"
   ]
  },
  {
   "cell_type": "code",
   "execution_count": 3,
   "metadata": {},
   "outputs": [],
   "source": [
    "import pandas as pd\n",
    "import numpy as np\n",
    "import os\n",
    "import time\n",
    "import sys\n",
    "import re\n",
    "\n",
    "# visualizations\n",
    "import matplotlib.pyplot as plt\n",
    "import seaborn as sns\n",
    "%matplotlib inline\n",
    "\n",
    "\n",
    "# for visualizing NAN\n",
    "import missingno as msno\n",
    "\n",
    "# for visualizing all columns\n",
    "pd.options.display.max_columns = None\n"
   ]
  },
  {
   "cell_type": "markdown",
   "metadata": {},
   "source": [
    "<a id='key'></a>\n",
    "[Return to Table of Contents](#table)\n",
    "\n",
    "## Key Points for assessing and cleaning\n",
    "\n",
    "- The BID2.CANDIDATO.dta file contains almost 2,350,000 records and 159 fields (columns).\n",
    "- The analysis will focus on the next federal entities of the SNE ofices: Chiapas, Nuevo León, Jalisco, Veracruz, Ciudad de México, and Estado de México.\n",
    "- Also, the analysis will be delimited to the next fields: \n",
    "    - 0   id\n",
    "    - 1   id_solicitante\n",
    "    - 2   entidadfed_sne\n",
    "    - 4   sexo\n",
    "    - 6   edad\n",
    "    - 8   edocivil \n",
    "    - 9   cedo_domicilio\n",
    "    - 11  nomb_localidad_domicilio\n",
    "    - 14  escolaridad\n",
    "    - 15  carrera\n",
    "    - 16  sit_academica\n",
    "    - 19  idioma\n",
    "    - 54  qempleobusca\n",
    "    - 55  salariopretente\n",
    "    - 60  tipoexperiencia\n",
    "    - 61  disp_viajar\n",
    "    - 62  disp_vivir\n",
    "    - 70  funciones    \n",
    "    - 71  trabajaactualmente\n",
    "    - 72  motivo\n",
    "    - 73  fchcomienzo_busqueda\n",
    "    - 119 clen_idcvelengua\n",
    "    - 120 tipodiscapacidad\n",
    "    - 143 id_ocupacion\n",
    "    - 144 ocupacion\n",
    "    - 145 id_area\n",
    "    - 146 area\n",
    "    - 147 id_subarea\n",
    "    - 148 subarea\n",
    "    - 157 colocados\n",
    "    - 158 estatus_candidato_colocados"
   ]
  },
  {
   "cell_type": "markdown",
   "metadata": {},
   "source": [
    "<a id='dta'></a>\n",
    "[Return to Table of Contents](#table)\n",
    "## Converting DTA to CSV file"
   ]
  },
  {
   "cell_type": "code",
   "execution_count": null,
   "metadata": {},
   "outputs": [],
   "source": [
    "#  First we create a reader with a small chunk in order to know the column names\n",
    "my_stata_reader = pd.read_stata('data/BID2.CANDIDATO.dta', chunksize=2)\n",
    "my_stata_reader._encoding = 'utf-8'\n",
    "my_stata_reader.variable_labels()"
   ]
  },
  {
   "cell_type": "code",
   "execution_count": null,
   "metadata": {},
   "outputs": [],
   "source": [
    "# The my_stata_reader object allows us reading the big dta file by chunks\n",
    "# filtering by the columns that we need \n",
    "my_stata_reader = pd.read_stata('BID2.CANDIDATO.dta', chunksize=10000, \n",
    "                                columns=['id','id_solicitante', 'entidadfed_sne', 'sexo', 'edad', 'edocivil', \n",
    "                                         'cedo_domicilio', 'nomb_localidad_domicilio','escolaridad', 'carrera', \n",
    "                                         'sit_academica', 'idioma', 'qempleobusca', 'salariopretente',\n",
    "                                         'tipoexperiencia', 'disp_viajar', 'disp_vivir', 'funciones', \n",
    "                                         'trabajaactualmente', 'motivo', 'fchcomienzo_busqueda', 'clen_idcvelengua',\n",
    "                                         'tipodiscapacidad', 'id_ocupacion', 'ocupacion', 'id_area', 'area',\n",
    "                                         'id_subarea', 'subarea', 'colocados', 'estatus_candidato_colocados'])\n",
    "my_stata_reader._encoding = 'utf-8'"
   ]
  },
  {
   "cell_type": "code",
   "execution_count": null,
   "metadata": {
    "scrolled": true
   },
   "outputs": [],
   "source": [
    "# start y end will measure time\n",
    "start = time.time()\n",
    "first = True\n",
    "\n",
    "# for each chunk it will do the next:\n",
    "for chunk in my_stata_reader:\n",
    "    if first:        # only append the header if it is the first chunk:\n",
    "        # filtering the rows by the given values for entidadfed_sne\n",
    "        filter_rows = chunk['entidadfed_sne'].isin(['CHIAPAS','NUEVO LEON','JALISCO','VERACRUZ','CIUDAD DE MEXICO','MEXICO, ESTADO DE'])\n",
    "        z = chunk[filter_rows]\n",
    "        z.to_csv('candidatos.csv', mode='a', index=False, header=True)  #‘a’ append\n",
    "        print('.', end = '')\n",
    "        first = False\n",
    "        \n",
    "    # Omit the header for the next chunks\n",
    "    # filtering the rows by the given values for entidadfed_sne\n",
    "    # filter_rows es una lista de bools\n",
    "    filter_rows = chunk['entidadfed_sne'].isin(['CHIAPAS','NUEVO LEON','JALISCO','VERACRUZ','CIUDAD DE MEXICO','MEXICO, ESTADO DE'])\n",
    "    z = chunk[filter_rows]    \n",
    "    z.to_csv('candidatos.csv', mode='a', index=False, header=False) #‘a’ append.\n",
    "    # Print a dot each time a chunk is appended\n",
    "    print('.', end = '')\n",
    "end = time.time()\n",
    "print (('Total time: ') + str(end - start))"
   ]
  },
  {
   "cell_type": "code",
   "execution_count": null,
   "metadata": {},
   "outputs": [],
   "source": [
    "# Verifiquemos el tamanio del CSV\n",
    "filesize= os.stat('candidatos.csv').st_size\n",
    "print(filesize)"
   ]
  },
  {
   "cell_type": "markdown",
   "metadata": {},
   "source": [
    "<a id='read'></a>\n",
    "[Return to Table of Contents](#table)\n",
    "## Reading the CSV"
   ]
  },
  {
   "cell_type": "markdown",
   "metadata": {},
   "source": [
    "The successful use of pd.read_csv may vary because of the <b>file size, type of processor, memory, code,</b> or some other variables.\n",
    "\n",
    "If the code runs out of memory, you can try reading in chunks."
   ]
  },
  {
   "cell_type": "code",
   "execution_count": 4,
   "metadata": {
    "scrolled": true
   },
   "outputs": [
    {
     "name": "stderr",
     "output_type": "stream",
     "text": [
      "/home/liliana/anaconda3/lib/python3.6/site-packages/IPython/core/interactiveshell.py:2785: DtypeWarning: Columns (19) have mixed types. Specify dtype option on import or set low_memory=False.\n",
      "  interactivity=interactivity, compiler=compiler, result=result)\n"
     ]
    },
    {
     "data": {
      "text/html": [
       "<div>\n",
       "<style scoped>\n",
       "    .dataframe tbody tr th:only-of-type {\n",
       "        vertical-align: middle;\n",
       "    }\n",
       "\n",
       "    .dataframe tbody tr th {\n",
       "        vertical-align: top;\n",
       "    }\n",
       "\n",
       "    .dataframe thead th {\n",
       "        text-align: right;\n",
       "    }\n",
       "</style>\n",
       "<table border=\"1\" class=\"dataframe\">\n",
       "  <thead>\n",
       "    <tr style=\"text-align: right;\">\n",
       "      <th></th>\n",
       "      <th>id</th>\n",
       "      <th>id_solicitante</th>\n",
       "      <th>entidadfed_sne</th>\n",
       "      <th>sexo</th>\n",
       "      <th>edad</th>\n",
       "      <th>edocivil</th>\n",
       "      <th>cedo_domicilio</th>\n",
       "      <th>nomb_localidad_domicilio</th>\n",
       "      <th>escolaridad</th>\n",
       "      <th>carrera</th>\n",
       "      <th>sit_academica</th>\n",
       "      <th>idioma</th>\n",
       "      <th>qempleobusca</th>\n",
       "      <th>salariopretente</th>\n",
       "      <th>tipoexperiencia</th>\n",
       "      <th>disp_viajar</th>\n",
       "      <th>disp_vivir</th>\n",
       "      <th>funciones</th>\n",
       "      <th>trabajaactualmente</th>\n",
       "      <th>motivo</th>\n",
       "      <th>fchcomienzo_busqueda</th>\n",
       "      <th>clen_idcvelengua</th>\n",
       "      <th>tipodiscapacidad</th>\n",
       "      <th>id_ocupacion</th>\n",
       "      <th>ocupacion</th>\n",
       "      <th>id_area</th>\n",
       "      <th>area</th>\n",
       "      <th>id_subarea</th>\n",
       "      <th>subarea</th>\n",
       "      <th>colocados</th>\n",
       "      <th>estatus_candidato_colocados</th>\n",
       "    </tr>\n",
       "  </thead>\n",
       "  <tbody>\n",
       "    <tr>\n",
       "      <th>0</th>\n",
       "      <td>2347459</td>\n",
       "      <td>501</td>\n",
       "      <td>NUEVO LEON</td>\n",
       "      <td>MASCULINO</td>\n",
       "      <td>31</td>\n",
       "      <td>SOLTERO (A)</td>\n",
       "      <td>HIDALGO</td>\n",
       "      <td>HUEJUTLA DE REYES</td>\n",
       "      <td>SIN INSTRUCCIÓN</td>\n",
       "      <td>Ninguna</td>\n",
       "      <td>ESTUDIANTE</td>\n",
       "      <td>NINGUNO</td>\n",
       "      <td>Auxiliar, ayudante o aprendiz de rotulista</td>\n",
       "      <td>3000.0</td>\n",
       "      <td>NaN</td>\n",
       "      <td>NO</td>\n",
       "      <td>NO</td>\n",
       "      <td>NaN</td>\n",
       "      <td>NO</td>\n",
       "      <td>Ajuste de personal</td>\n",
       "      <td>1999-01-01</td>\n",
       "      <td>No</td>\n",
       "      <td>Ninguna</td>\n",
       "      <td>214301</td>\n",
       "      <td>Trabajadora social</td>\n",
       "      <td>17</td>\n",
       "      <td>SECTOR SALUD / MEDICINA</td>\n",
       "      <td>101</td>\n",
       "      <td>ASESORAMIENTO PSICOLÓGICO Y TRABAJO SOCIAL</td>\n",
       "      <td>1</td>\n",
       "      <td>SI</td>\n",
       "    </tr>\n",
       "  </tbody>\n",
       "</table>\n",
       "</div>"
      ],
      "text/plain": [
       "        id  id_solicitante entidadfed_sne       sexo  edad     edocivil  \\\n",
       "0  2347459             501     NUEVO LEON  MASCULINO    31  SOLTERO (A)   \n",
       "\n",
       "                        cedo_domicilio nomb_localidad_domicilio  \\\n",
       "0  HIDALGO                                    HUEJUTLA DE REYES   \n",
       "\n",
       "       escolaridad  carrera sit_academica   idioma  \\\n",
       "0  SIN INSTRUCCIÓN  Ninguna    ESTUDIANTE  NINGUNO   \n",
       "\n",
       "                                 qempleobusca  salariopretente  \\\n",
       "0  Auxiliar, ayudante o aprendiz de rotulista           3000.0   \n",
       "\n",
       "  tipoexperiencia disp_viajar disp_vivir funciones trabajaactualmente  \\\n",
       "0             NaN          NO         NO       NaN                 NO   \n",
       "\n",
       "               motivo fchcomienzo_busqueda clen_idcvelengua tipodiscapacidad  \\\n",
       "0  Ajuste de personal           1999-01-01               No          Ninguna   \n",
       "\n",
       "   id_ocupacion           ocupacion  id_area                     area  \\\n",
       "0        214301  Trabajadora social       17  SECTOR SALUD / MEDICINA   \n",
       "\n",
       "   id_subarea                                     subarea  colocados  \\\n",
       "0         101  ASESORAMIENTO PSICOLÓGICO Y TRABAJO SOCIAL          1   \n",
       "\n",
       "  estatus_candidato_colocados  \n",
       "0                          SI  "
      ]
     },
     "execution_count": 4,
     "metadata": {},
     "output_type": "execute_result"
    }
   ],
   "source": [
    "candidatos = pd.read_csv('candidatos.csv')\n",
    "candidatos.head(1)"
   ]
  },
  {
   "cell_type": "markdown",
   "metadata": {},
   "source": [
    "<a id='explore'></a>\n",
    "[Return to Table of Contents](#table)\n",
    "## Exploring the table\n"
   ]
  },
  {
   "cell_type": "code",
   "execution_count": null,
   "metadata": {},
   "outputs": [],
   "source": [
    "candidatos.sample(5)"
   ]
  },
  {
   "cell_type": "code",
   "execution_count": null,
   "metadata": {
    "scrolled": true
   },
   "outputs": [],
   "source": [
    "candidatos.info()"
   ]
  },
  {
   "cell_type": "code",
   "execution_count": null,
   "metadata": {},
   "outputs": [],
   "source": [
    "candidatos[candidatos.duplicated()].sort_values(by='nomb_localidad_domicilio')"
   ]
  },
  {
   "cell_type": "code",
   "execution_count": null,
   "metadata": {},
   "outputs": [],
   "source": [
    "candidatos.entidadfed_sne.unique()"
   ]
  },
  {
   "cell_type": "code",
   "execution_count": null,
   "metadata": {},
   "outputs": [],
   "source": [
    "candidatos.sexo.unique()"
   ]
  },
  {
   "cell_type": "code",
   "execution_count": null,
   "metadata": {},
   "outputs": [],
   "source": [
    "candidatos.groupby('edad')['id'].nunique()\n"
   ]
  },
  {
   "cell_type": "code",
   "execution_count": null,
   "metadata": {},
   "outputs": [],
   "source": [
    "candidatos.edocivil.unique()"
   ]
  },
  {
   "cell_type": "code",
   "execution_count": null,
   "metadata": {},
   "outputs": [],
   "source": [
    "a = candidatos.cedo_domicilio.unique()\n",
    "print(sorted(a))"
   ]
  },
  {
   "cell_type": "code",
   "execution_count": null,
   "metadata": {},
   "outputs": [],
   "source": [
    "candidatos.nomb_localidad_domicilio.unique().tolist()"
   ]
  },
  {
   "cell_type": "code",
   "execution_count": null,
   "metadata": {},
   "outputs": [],
   "source": [
    "candidatos.escolaridad.unique()"
   ]
  },
  {
   "cell_type": "code",
   "execution_count": null,
   "metadata": {},
   "outputs": [],
   "source": [
    "candidatos.carrera.unique().tolist()"
   ]
  },
  {
   "cell_type": "code",
   "execution_count": null,
   "metadata": {},
   "outputs": [],
   "source": [
    "candidatos.sit_academica.unique()"
   ]
  },
  {
   "cell_type": "code",
   "execution_count": null,
   "metadata": {},
   "outputs": [],
   "source": [
    "candidatos.idioma.unique()"
   ]
  },
  {
   "cell_type": "code",
   "execution_count": null,
   "metadata": {},
   "outputs": [],
   "source": [
    "candidatos.tipoexperiencia.unique().tolist()"
   ]
  },
  {
   "cell_type": "code",
   "execution_count": null,
   "metadata": {},
   "outputs": [],
   "source": [
    "candidatos.disp_viajar.unique()"
   ]
  },
  {
   "cell_type": "code",
   "execution_count": null,
   "metadata": {},
   "outputs": [],
   "source": [
    "candidatos.disp_vivir.unique()"
   ]
  },
  {
   "cell_type": "code",
   "execution_count": null,
   "metadata": {},
   "outputs": [],
   "source": [
    "candidatos.funciones.unique().tolist()"
   ]
  },
  {
   "cell_type": "code",
   "execution_count": null,
   "metadata": {},
   "outputs": [],
   "source": [
    "candidatos.trabajaactualmente.unique()"
   ]
  },
  {
   "cell_type": "code",
   "execution_count": null,
   "metadata": {},
   "outputs": [],
   "source": [
    "candidatos.motivo.unique()"
   ]
  },
  {
   "cell_type": "code",
   "execution_count": null,
   "metadata": {},
   "outputs": [],
   "source": [
    "candidatos.fchcomienzo_busqueda.unique()"
   ]
  },
  {
   "cell_type": "code",
   "execution_count": null,
   "metadata": {},
   "outputs": [],
   "source": [
    "candidatos.clen_idcvelengua.unique()"
   ]
  },
  {
   "cell_type": "code",
   "execution_count": null,
   "metadata": {},
   "outputs": [],
   "source": [
    "candidatos.tipodiscapacidad.unique()"
   ]
  },
  {
   "cell_type": "code",
   "execution_count": null,
   "metadata": {},
   "outputs": [],
   "source": [
    "candidatos.ocupacion.unique()"
   ]
  },
  {
   "cell_type": "code",
   "execution_count": null,
   "metadata": {},
   "outputs": [],
   "source": [
    "unique, counts = np.unique(candidatos.area, return_counts=True)"
   ]
  },
  {
   "cell_type": "code",
   "execution_count": null,
   "metadata": {},
   "outputs": [],
   "source": [
    "dict(zip(unique, counts))"
   ]
  },
  {
   "cell_type": "code",
   "execution_count": null,
   "metadata": {},
   "outputs": [],
   "source": [
    "np.sort(candidatos.subarea.unique())"
   ]
  },
  {
   "cell_type": "code",
   "execution_count": null,
   "metadata": {},
   "outputs": [],
   "source": [
    "candidatos.colocados.unique()"
   ]
  },
  {
   "cell_type": "code",
   "execution_count": null,
   "metadata": {},
   "outputs": [],
   "source": [
    "candidatos.estatus_candidato_colocados.unique()"
   ]
  },
  {
   "cell_type": "code",
   "execution_count": null,
   "metadata": {},
   "outputs": [],
   "source": [
    "#NaN in candidatos\n",
    "candidatos = candidatos.replace(\"nan\",np.nan)\n",
    "msno.matrix(candidatos.sample(250));"
   ]
  },
  {
   "cell_type": "markdown",
   "metadata": {},
   "source": [
    "<a id='copies'></a>\n",
    "[Return to Table of Contents](#table)\n",
    "## Making copies\n",
    "\n",
    "The first step before any cleaning is **always make copies**"
   ]
  },
  {
   "cell_type": "code",
   "execution_count": 5,
   "metadata": {},
   "outputs": [],
   "source": [
    "candidatos_clean = candidatos.copy()"
   ]
  },
  {
   "cell_type": "markdown",
   "metadata": {},
   "source": [
    "<a id='assess1'></a>[Return to Table of Contents](#table)\n",
    "## Assesment and cleaning\n",
    "#### Quality changes\n",
    "1. [Wrong Datatypes](#datatypes)\n",
    "2. [Remove the ending spaces in `cedo_domicilio`](#spaces)\n",
    "3. [The value 'MEXICO, ESTADO DE' must be changed ](#edomex)\n",
    "4. [Some candidates have unexpected values for `edad`.](#edad)\n",
    "5. [Values in `tipoexperiencia` have mixed upper-lowercase and spaces](#trimAndUpp)\n",
    "6. [Values for no experience in `tipoexperiencia` can be unified](#unify)\n",
    "7. [Values in `clen_idcvelengua` must be completed](#lengua_indigena)\n",
    "8. [`area` and `subarea` have mixed upper and lowercase values](#uplowcase)  \n",
    "9. [Column names](#col_names)\n",
    "10. [Define categorical columns](#categorical)\n",
    "\n",
    "#### Tidiness changes\n",
    "Not a single so far."
   ]
  },
  {
   "cell_type": "markdown",
   "metadata": {},
   "source": [
    "<a id='datatypes'></a>\n",
    "### 1. Wrong datatypes "
   ]
  },
  {
   "cell_type": "markdown",
   "metadata": {},
   "source": [
    "`tipoexperiencia` has mixed string and float datatypes"
   ]
  },
  {
   "cell_type": "code",
   "execution_count": 6,
   "metadata": {},
   "outputs": [],
   "source": [
    "candidatos_clean['tipoexperiencia'] = candidatos_clean['tipoexperiencia'].astype(str)"
   ]
  },
  {
   "cell_type": "code",
   "execution_count": 7,
   "metadata": {},
   "outputs": [
    {
     "data": {
      "text/plain": [
       "str"
      ]
     },
     "execution_count": 7,
     "metadata": {},
     "output_type": "execute_result"
    }
   ],
   "source": [
    "type(candidatos_clean['tipoexperiencia'][0])"
   ]
  },
  {
   "cell_type": "markdown",
   "metadata": {},
   "source": [
    "<a id='spaces'></a>\n",
    "[Return to Assesment](#assess1)\n",
    "### 2. Remove the ending spaces in `cedo_domicilio` \n",
    "Using str.strip() function"
   ]
  },
  {
   "cell_type": "code",
   "execution_count": 8,
   "metadata": {},
   "outputs": [],
   "source": [
    "candidatos_clean.cedo_domicilio = candidatos_clean.cedo_domicilio.str.strip()"
   ]
  },
  {
   "cell_type": "code",
   "execution_count": 9,
   "metadata": {},
   "outputs": [
    {
     "data": {
      "text/plain": [
       "array(['HIDALGO', 'CHIAPAS', 'VERACRUZ', 'TABASCO', 'JALISCO',\n",
       "       'CIUDAD DE MÉXICO', 'DURANGO', 'MEXICO, ESTADO DE', 'SINALOA',\n",
       "       'NUEVO LEON', 'COLIMA', 'GUANAJUATO', 'MICHOACAN', 'QUINTANA ROO',\n",
       "       'GUERRERO', 'OAXACA', 'PUEBLA', 'ZACATECAS', 'MORELOS',\n",
       "       'BAJA CALIFORNIA', 'SAN LUIS POTOSI', 'YUCATAN', 'TAMAULIPAS',\n",
       "       'AGUASCALIENTES', 'NAYARIT', 'QUERETARO', 'COAHUILA',\n",
       "       'BAJA CALIFORNIA SUR', 'SONORA', 'CAMPECHE', 'TLAXCALA',\n",
       "       'CHIHUAHUA'], dtype=object)"
      ]
     },
     "execution_count": 9,
     "metadata": {},
     "output_type": "execute_result"
    }
   ],
   "source": [
    "candidatos_clean.cedo_domicilio.unique()"
   ]
  },
  {
   "cell_type": "markdown",
   "metadata": {},
   "source": [
    "<a id='edomex'></a>\n",
    "[Return to Assesment](#assess1)\n",
    "### 3. The value 'MEXICO, ESTADO DE'  must be changed \n",
    "'ESTADO DE MEXICO' must be used instead of 'MEXICO, ESTADO DE', which is a better reading of the value.\n",
    "Use replace function"
   ]
  },
  {
   "cell_type": "code",
   "execution_count": 10,
   "metadata": {},
   "outputs": [],
   "source": [
    "candidatos_clean = candidatos_clean.replace({'entidadfed_sne': r'^[MEXICO, ESTADO DE].+'}, \n",
    "                                            {'entidadfed_sne': 'ESTADO DE MEXICO'}, regex = True )"
   ]
  },
  {
   "cell_type": "code",
   "execution_count": 11,
   "metadata": {},
   "outputs": [],
   "source": [
    "candidatos_clean = candidatos_clean.replace({'cedo_domicilio': r'^[MEXICO, ESTADO DE].+'}, \n",
    "                                            {'cedo_domicilio': 'ESTADO DE MEXICO'}, regex = True )"
   ]
  },
  {
   "cell_type": "code",
   "execution_count": 12,
   "metadata": {},
   "outputs": [
    {
     "data": {
      "text/plain": [
       "array(['NUEVO LEON', 'ESTADO DE MEXICO', 'VERACRUZ', 'JALISCO'],\n",
       "      dtype=object)"
      ]
     },
     "execution_count": 12,
     "metadata": {},
     "output_type": "execute_result"
    }
   ],
   "source": [
    "# Verify change\n",
    "candidatos_clean.entidadfed_sne.unique()"
   ]
  },
  {
   "cell_type": "code",
   "execution_count": 13,
   "metadata": {},
   "outputs": [
    {
     "data": {
      "text/plain": [
       "array(['HIDALGO', 'ESTADO DE MEXICO', 'VERACRUZ', 'JALISCO', 'NUEVO LEON',\n",
       "       'GUANAJUATO', 'QUINTANA ROO', 'GUERRERO', 'PUEBLA', 'ZACATECAS',\n",
       "       'BAJA CALIFORNIA', 'YUCATAN', 'NAYARIT', 'QUERETARO',\n",
       "       'BAJA CALIFORNIA SUR'], dtype=object)"
      ]
     },
     "execution_count": 13,
     "metadata": {},
     "output_type": "execute_result"
    }
   ],
   "source": [
    "candidatos_clean.cedo_domicilio.unique()"
   ]
  },
  {
   "cell_type": "markdown",
   "metadata": {},
   "source": [
    "<a id='edad'></a>\n",
    "[Return to Assesment](#assess1)\n",
    "### 4. Some candidates have unexpected values for `edad`.\n",
    "Values from 3 to 15 years will be changed for the average age."
   ]
  },
  {
   "cell_type": "code",
   "execution_count": 14,
   "metadata": {},
   "outputs": [
    {
     "data": {
      "text/plain": [
       "32.75689553700858"
      ]
     },
     "execution_count": 14,
     "metadata": {},
     "output_type": "execute_result"
    }
   ],
   "source": [
    "# The average age\n",
    "candidatos_clean.edad.mean()"
   ]
  },
  {
   "cell_type": "markdown",
   "metadata": {},
   "source": [
    "A numpy array will be created and then replaced where edad < 16"
   ]
  },
  {
   "cell_type": "code",
   "execution_count": 15,
   "metadata": {},
   "outputs": [],
   "source": [
    "a = np.array(candidatos_clean.edad.values.tolist())"
   ]
  },
  {
   "cell_type": "code",
   "execution_count": 17,
   "metadata": {},
   "outputs": [],
   "source": [
    "candidatos_clean.edad = np.where(a < 16, candidatos_clean.edad.mean(), a)"
   ]
  },
  {
   "cell_type": "code",
   "execution_count": 18,
   "metadata": {},
   "outputs": [
    {
     "data": {
      "text/html": [
       "<div>\n",
       "<style scoped>\n",
       "    .dataframe tbody tr th:only-of-type {\n",
       "        vertical-align: middle;\n",
       "    }\n",
       "\n",
       "    .dataframe tbody tr th {\n",
       "        vertical-align: top;\n",
       "    }\n",
       "\n",
       "    .dataframe thead th {\n",
       "        text-align: right;\n",
       "    }\n",
       "</style>\n",
       "<table border=\"1\" class=\"dataframe\">\n",
       "  <thead>\n",
       "    <tr style=\"text-align: right;\">\n",
       "      <th></th>\n",
       "      <th>id</th>\n",
       "      <th>id_solicitante</th>\n",
       "      <th>entidadfed_sne</th>\n",
       "      <th>sexo</th>\n",
       "      <th>edad</th>\n",
       "      <th>edocivil</th>\n",
       "      <th>cedo_domicilio</th>\n",
       "      <th>nomb_localidad_domicilio</th>\n",
       "      <th>escolaridad</th>\n",
       "      <th>carrera</th>\n",
       "      <th>sit_academica</th>\n",
       "      <th>idioma</th>\n",
       "      <th>qempleobusca</th>\n",
       "      <th>salariopretente</th>\n",
       "      <th>tipoexperiencia</th>\n",
       "      <th>disp_viajar</th>\n",
       "      <th>disp_vivir</th>\n",
       "      <th>funciones</th>\n",
       "      <th>trabajaactualmente</th>\n",
       "      <th>motivo</th>\n",
       "      <th>fchcomienzo_busqueda</th>\n",
       "      <th>clen_idcvelengua</th>\n",
       "      <th>tipodiscapacidad</th>\n",
       "      <th>id_ocupacion</th>\n",
       "      <th>ocupacion</th>\n",
       "      <th>id_area</th>\n",
       "      <th>area</th>\n",
       "      <th>id_subarea</th>\n",
       "      <th>subarea</th>\n",
       "      <th>colocados</th>\n",
       "      <th>estatus_candidato_colocados</th>\n",
       "    </tr>\n",
       "  </thead>\n",
       "  <tbody>\n",
       "  </tbody>\n",
       "</table>\n",
       "</div>"
      ],
      "text/plain": [
       "Empty DataFrame\n",
       "Columns: [id, id_solicitante, entidadfed_sne, sexo, edad, edocivil, cedo_domicilio, nomb_localidad_domicilio, escolaridad, carrera, sit_academica, idioma, qempleobusca, salariopretente, tipoexperiencia, disp_viajar, disp_vivir, funciones, trabajaactualmente, motivo, fchcomienzo_busqueda, clen_idcvelengua, tipodiscapacidad, id_ocupacion, ocupacion, id_area, area, id_subarea, subarea, colocados, estatus_candidato_colocados]\n",
       "Index: []"
      ]
     },
     "execution_count": 18,
     "metadata": {},
     "output_type": "execute_result"
    }
   ],
   "source": [
    "# Verify the change\n",
    "candidatos_clean.query('edad < 16')"
   ]
  },
  {
   "cell_type": "markdown",
   "metadata": {},
   "source": [
    "<a id='trimAndUpp'></a>\n",
    "[Return to Assesment](#assess1)\n",
    "### 5. Values in `tipoexperiencia` have mixed upper-lowercase and spaces\n",
    "\n",
    "Use the functions `strip` and `upper`"
   ]
  },
  {
   "cell_type": "code",
   "execution_count": 19,
   "metadata": {},
   "outputs": [],
   "source": [
    "candidatos_clean.tipoexperiencia = candidatos_clean.tipoexperiencia.str.strip()"
   ]
  },
  {
   "cell_type": "code",
   "execution_count": 20,
   "metadata": {},
   "outputs": [],
   "source": [
    "candidatos_clean.tipoexperiencia = candidatos_clean.tipoexperiencia.str.upper()"
   ]
  },
  {
   "cell_type": "code",
   "execution_count": 21,
   "metadata": {},
   "outputs": [
    {
     "data": {
      "text/plain": [
       "NAN                                                                      729995\n",
       "NINGUNA                                                                   23894\n",
       "NINGUNO                                                                   15187\n",
       "VENTAS                                                                    11475\n",
       "AYUDANTE GENERAL                                                           9272\n",
       "[INDICA EL CONOCIMIENTO]                                                   6238\n",
       "AUXILIAR ADMINISTRATIVO                                                    5362\n",
       "ADMINISTRATIVO                                                             5349\n",
       "COMPUTACION                                                                4791\n",
       "CHOFER                                                                     4237\n",
       "ATENCION A CLIENTES                                                        3351\n",
       "ADMINISTRACION                                                             3112\n",
       "ALMACENISTA                                                                3065\n",
       "COMPUTADORA                                                                3011\n",
       "LIMPIEZA                                                                   2971\n",
       "OPERARIO                                                                   2752\n",
       "OBRERO                                                                     2658\n",
       "OFFICE                                                                     2571\n",
       "AYUDANTE                                                                   2467\n",
       "ALMACEN                                                                    2164\n",
       "ATENCION AL CLIENTE                                                        2129\n",
       "CAJERA                                                                     2093\n",
       "MANEJO DE PERSONAL                                                         2058\n",
       "CAJERO                                                                     2057\n",
       "RECURSOS HUMANOS                                                           1782\n",
       "CONTABILIDAD                                                               1738\n",
       "JORNALERO AGRICOLA                                                         1672\n",
       "ACTIVIDADES GENERALES EN OPERACIONES                                       1670\n",
       "ADMINISTRATIVOS                                                            1659\n",
       "AUXILIAR CONTABLE                                                          1621\n",
       "                                                                          ...  \n",
       "DISEÑO  GRAFICO COMPUTACION Y SOFTWARES                                       1\n",
       "ELECTRÓNICA MECÁNICA Y AUTOMATIZACIÓN                                         1\n",
       "PROGRAMACION BBA                                                              1\n",
       "MANEJO DE INYECCION DE PLASTICO, PELETIZADORA, MOL                            1\n",
       "SEGURIDAD CONDUCION DE VEHICULOS                                              1\n",
       "ATENCION AL CLIENTE EMPLEADA DE MOSTRADOR                                     1\n",
       "PROGRAMAS DE CONTABILIDAD CONTAPAQ                                            1\n",
       "CONOSCO EL TRANSPORTE PUBLICO DF                                              1\n",
       "ENFERMERIA PRIMER NIVEL                                                       1\n",
       "PLOMERIA Y ALBAÑILERIA                                                        1\n",
       "MANEJO PROGRAMAS PARA DISEÑO                                                  1\n",
       "JUICIOS MERCANTILES CIVILES FAMILIARES ORALES...                              1\n",
       "INGENIERO DE INFORMATICA                                                      1\n",
       "CAJAS COBRANZA CAMBACEO CARTERA CREDITO EXPEDIENTE                            1\n",
       "MANEJO DE CAMIONETA DE 1.5 TN.                                                1\n",
       "DERECHO CIVIL, MERCANTIL, PENAL Y LABORAL                                     1\n",
       "ALMACENES Y ADMINISTRACION DE TIENDAS                                         1\n",
       "MANEJO DIFERENTES SISTEMAS DE EDICIÓN Y DISEÑO MUL                            1\n",
       "INVENTARIOS LOMAS                                                             1\n",
       "DOMINIO  EN VH SPRINTER NISSAN Y FIAT DUCATTO                                 1\n",
       "MECANICA DE BICICLETAS                                                        1\n",
       "DE OFICIONA                                                                   1\n",
       "ANALISTA DE DATOS, CAPTURA, DIGITALIZACION Y CALIDAD DE IMAGEN                1\n",
       "ELABORACION DE REPORTES FACTURACION BASES DE DATOS  OFICIOS Y ARCHIVO         1\n",
       "SECRETARIA, GUARDERIAS,                                                       1\n",
       "VENTAS DE MOSTRADOR Y ATENCION A CLIENTE                                      1\n",
       "ELECTRICIDAD PLOMERIA ALBAÑILERIA MANEJO DE OFFICE                            1\n",
       "EN VARIAS RAMAS E SIDO VIGILANTE PERO QUIERO COSAS                            1\n",
       "PRODUCCION DE HONGOS SETAS                                                    1\n",
       "ADMININISTRADOR DE ARCHIVOS                                                   1\n",
       "Name: tipoexperiencia, Length: 140440, dtype: int64"
      ]
     },
     "execution_count": 21,
     "metadata": {},
     "output_type": "execute_result"
    }
   ],
   "source": [
    "# Verify the changes\n",
    "candidatos_clean.tipoexperiencia.value_counts()"
   ]
  },
  {
   "cell_type": "markdown",
   "metadata": {},
   "source": [
    "<a id='unify'></a>\n",
    "[Return to Assesment](#assess1)\n",
    "### 6. Values for no experience in `tipoexperiencia` can be unified\n",
    "\n",
    "Use the match function and regular expressions (regex)"
   ]
  },
  {
   "cell_type": "code",
   "execution_count": 22,
   "metadata": {},
   "outputs": [],
   "source": [
    "# match all NING\n",
    "a = candidatos_clean[candidatos_clean['tipoexperiencia'].str.match(pat = r'.*NING.*', case=False)].tipoexperiencia"
   ]
  },
  {
   "cell_type": "code",
   "execution_count": 23,
   "metadata": {},
   "outputs": [
    {
     "name": "stdout",
     "output_type": "stream",
     "text": [
      "NINGUNA                                                                                                 23894\n",
      "NINGUNO                                                                                                 15187\n",
      "NINGUN                                                                                                     37\n",
      "NINGUNIO                                                                                                   21\n",
      "NINGUINO                                                                                                   20\n",
      "NINGIUNA                                                                                                   15\n",
      "NINGUNA.                                                                                                   12\n",
      "NINGNA                                                                                                     11\n",
      "NINGUA                                                                                                     10\n",
      "NINGINO                                                                                                    10\n",
      "NINGUNI                                                                                                     9\n",
      "NINGUO                                                                                                      9\n",
      "NINGUINA                                                                                                    8\n",
      "NINGUNOI                                                                                                    8\n",
      "NINGUNOP                                                                                                    6\n",
      "NINGINA                                                                                                     6\n",
      "NINGNO                                                                                                      6\n",
      "NINGUMO                                                                                                     6\n",
      "NNINGUNA                                                                                                    5\n",
      "NINGNUO                                                                                                     5\n",
      "NNINGUNO                                                                                                    4\n",
      "NINGUNP                                                                                                     4\n",
      "NINGUN A                                                                                                    3\n",
      "NINGUBNO                                                                                                    3\n",
      "NINGUMA                                                                                                     3\n",
      "NINGUBNA                                                                                                    3\n",
      "NINGU                                                                                                       3\n",
      "NINGUNA EXPERIENCIA                                                                                         3\n",
      "NINGUNS                                                                                                     3\n",
      "NINGUANA                                                                                                    3\n",
      "NINGUJNA                                                                                                    3\n",
      "NINGUN0                                                                                                     2\n",
      "MNINGUNO                                                                                                    2\n",
      ".NINGUNA                                                                                                    2\n",
      "NINGUNO|                                                                                                    2\n",
      "NINGUAN                                                                                                     2\n",
      "NINGUNAS                                                                                                    2\n",
      "NING                                                                                                        2\n",
      "NINGUNA RELACIONADA                                                                                         2\n",
      "E-LEARNING                                                                                                  2\n",
      "NINGGUNA                                                                                                    2\n",
      "NINGUNSA                                                                                                    2\n",
      "NINGUNMO                                                                                                    2\n",
      "NINGHUNO                                                                                                    2\n",
      "NINGUNON                                                                                                    2\n",
      "NNINGUNOA                                                                                                   2\n",
      "LEARNING MANAGEMENT SYSTEMS                                                                                 2\n",
      "NINGUJO                                                                                                     2\n",
      "NINGBUNO                                                                                                    1\n",
      "NINGNUNO                                                                                                    1\n",
      "NINGFUNO                                                                                                    1\n",
      "NINGUNA|                                                                                                    1\n",
      "INSPECTOR TRAINING                                                                                          1\n",
      "NO TIENE NINGUNA RELACION                                                                                   1\n",
      "NINGNUNA                                                                                                    1\n",
      "ONINGUN                                                                                                     1\n",
      "NINGUN DATO                                                                                                 1\n",
      "NINGUINI                                                                                                    1\n",
      "TRAINING                                                                                                    1\n",
      "NINGYNA                                                                                                     1\n",
      "CERTIFICACION EN E.U DE TRX SUSPENSION TRAINING                                                             1\n",
      "NINGUNA44000                                                                                                1\n",
      "NINGUNA PERO TENGO GANAS DE APRENDER                                                                        1\n",
      "NINGUNQA                                                                                                    1\n",
      "E LEARNING                                                                                                  1\n",
      "TECHNICAL TRAINING BY KONIG                                                                                 1\n",
      "NINGUNAA                                                                                                    1\n",
      "NO TENGO NINGUNA                                                                                            1\n",
      "NINGUNMA                                                                                                    1\n",
      "NINGYNO                                                                                                     1\n",
      "ENTERPRISE RESOURCING PLANNING                                                                              1\n",
      "-NINGUNA                                                                                                    1\n",
      "SOPORTE TÉCNICO Y PLATAFORMAS ELEARNING                                                                     1\n",
      "EXPERIENCIA EN RESTAURANTES CASUAL Y FINE DINING                                                            1\n",
      "NINGUINJO                                                                                                   1\n",
      "SAP 6.0 UPGRADE BASIC TRAINING                                                                              1\n",
      ".NINGUNO                                                                                                    1\n",
      "NINGUNA ESPECIALIZADA SOLO PREPARACION DE ALIMENTOS                                                         1\n",
      "NINGUNJO                                                                                                    1\n",
      "NINGUNO SOLO A GANCHO                                                                                       1\n",
      "NINGUNOA                                                                                                    1\n",
      "NINGYUBNO                                                                                                   1\n",
      "UNINGNA                                                                                                     1\n",
      "MANAGEMENT  AND PLANNING SYSTEM                                                                             1\n",
      "TRAINING AND HUMAN RESOURCES                                                                                1\n",
      "NINGUMNA                                                                                                    1\n",
      "NINGUNO NUEVO                                                                                               1\n",
      "NINGUYNA                                                                                                    1\n",
      "NONINGUNA                                                                                                   1\n",
      "NINGUNIA                                                                                                    1\n",
      "NO TENGO NINGUNA EXPERIENCIA                                                                                1\n",
      "ADMINISTRACIÓN E.LEARNING                                                                                   1\n",
      "NINGUNA, QUIERO APRENDER MECANICA                                                                           1\n",
      "NINGUN O                                                                                                    1\n",
      "NINGUNA NUNCA HE TRABAJADO SOLO PRACTICAS ESCOLARES                                                         1\n",
      "NINGUYNO                                                                                                    1\n",
      "MENU PLANNING, ADMINISTRACIÓN DE COSTOS...                                                                  1\n",
      "INSTRUCTOR DE PESAS Y DE SPINING                                                                            1\n",
      "NINGUN CONOCIMIENYO                                                                                         1\n",
      "NINGUNA EXOERIENCIA                                                                                         1\n",
      "NINGUNA EXP                                                                                                 1\n",
      "NO TNGO NINGUNA EXPERIENCIA                                                                                 1\n",
      "NINGUNO0..........................................                                                          1\n",
      "NINGUBA                                                                                                     1\n",
      "LO BÁSICO. LABORIOSAMENTE NINGUNA                                                                           1\n",
      "NO NINGUNO                                                                                                  1\n",
      "CURSO DE INGLES EN QUICK LEARNING                                                                           1\n",
      "NINGUN OTRO                                                                                                 1\n",
      "NINGUNO SOLO FAMILIAR DOMESTICO                                                                             1\n",
      "NINGUBO                                                                                                     1\n",
      "NINGUNANINGUNA                                                                                              1\n",
      "NINGTUNA                                                                                                    1\n",
      "NINGANO                                                                                                     1\n",
      "NINGUNNO                                                                                                    1\n",
      "NINGUNO.                                                                                                    1\n",
      "NINGUNHA                                                                                                    1\n",
      "TEACHER KNOWLEDGE TRAINING                                                                                  1\n",
      "NINGUGO                                                                                                     1\n",
      "NO HA TRABAJADO EN NINGUN TALLER                                                                            1\n",
      "DOCUMENT EXAMINATION TRAINING                                                                               1\n",
      "NINGUNO4000                                                                                                 1\n",
      "NINGTUNO                                                                                                    1\n",
      "NINGUNO1                                                                                                    1\n",
      "NINGUNA POR EL MOMENTO                                                                                      1\n",
      "NO TENGO NINGUNA EXPERIENCIA ESTE SERIA MI PRIMER                                                           1\n",
      "NINGUNOMONTACARGUISTA                                                                                       1\n",
      "ENTERPRISE RESOURCES PLANNING                                                                               1\n",
      "MNINGNO                                                                                                     1\n",
      "LEADERSHIP TRAINING                                                                                         1\n",
      "NINGUNO EN ESPECIAL                                                                                         1\n",
      "NINGUNO, SOLO AL CUIDADO DE PLANTAS                                                                         1\n",
      "NINGUNA CON COSTURA                                                                                         1\n",
      "ININGUNA                                                                                                    1\n",
      "NO NINGUNA                                                                                                  1\n",
      "NINGUNA EN EL PUESTO                                                                                        1\n",
      "NINGONA                                                                                                     1\n",
      "CETIFICACION DE APPLE INC EN SALES TRAINING                                                                 1\n",
      "NINGUNAN                                                                                                    1\n",
      "PLATAFORMA BLEARNING                                                                                        1\n",
      "MANEJO DE PLATAFORMAS E LEARNING Y NET CONFERENCE                                                           1\n",
      "NINGUNA EN AUXILIAR DE EDUCADORA. EN FOTOGRAFIA ENFOCR OBJETIVOS, GOLPE DE ZOOM, BARRIDO DE FONDO, B        1\n",
      "BUSINESS PLANNING AND CONTROL SYSTEM                                                                        1\n",
      "NINGIUNO                                                                                                    1\n",
      "NINGUNA PERO ME GUSTA MUCHO GLOBO                                                                           1\n",
      "NO ENGO NINGUNA EXPERIENCIA                                                                                 1\n",
      "Name: tipoexperiencia, dtype: int64\n"
     ]
    }
   ],
   "source": [
    "# show all and count values\n",
    "with pd.option_context('display.max_rows', None, 'display.max_columns', None):\n",
    "    print(a.value_counts())"
   ]
  },
  {
   "cell_type": "code",
   "execution_count": 24,
   "metadata": {},
   "outputs": [
    {
     "data": {
      "text/plain": [
       "pandas.core.series.Series"
      ]
     },
     "execution_count": 24,
     "metadata": {},
     "output_type": "execute_result"
    }
   ],
   "source": [
    "# a serie with all values of tipoexperiencia\n",
    "experiencias = candidatos_clean.tipoexperiencia\n",
    "type(experiencias)"
   ]
  },
  {
   "cell_type": "code",
   "execution_count": 25,
   "metadata": {},
   "outputs": [],
   "source": [
    "# r is a regex NING|ning\n",
    "r = re.compile('NING|ning|Ning')\n",
    "# vectorized function which takes a nested sequence of objects or numpy arrays as inputs \n",
    "# and returns a single numpy array\n",
    "# Using re.search instead of re.match which matches the pattern from beginning of the string\n",
    "ning_match = np.vectorize(lambda x:bool(r.search(x)))\n",
    "# call function for the series experiencias. Returns a bool array\n",
    "exp_bool_array = ning_match(experiencias)"
   ]
  },
  {
   "cell_type": "code",
   "execution_count": 26,
   "metadata": {},
   "outputs": [
    {
     "data": {
      "text/plain": [
       "array([False, False,  True, ..., False, False, False])"
      ]
     },
     "execution_count": 26,
     "metadata": {},
     "output_type": "execute_result"
    }
   ],
   "source": [
    "exp_bool_array"
   ]
  },
  {
   "cell_type": "code",
   "execution_count": 27,
   "metadata": {},
   "outputs": [],
   "source": [
    "# Setting values with df.loc\n",
    "# https://pandas.pydata.org/pandas-docs/stable/reference/api/pandas.DataFrame.loc.html\n",
    "# convert the bool array to list. Change all True in tipoexperiencia with 'NINGUNA'\n",
    "candidatos_clean.loc[exp_bool_array.tolist(),['tipoexperiencia']] = 'NINGUNA'"
   ]
  },
  {
   "cell_type": "markdown",
   "metadata": {},
   "source": [
    "Also we'll add up 'NAN' and '\\[INDICA EL CONOCIMIENTO\\]' to 'NO ESPECIFICADO'"
   ]
  },
  {
   "cell_type": "code",
   "execution_count": 28,
   "metadata": {},
   "outputs": [],
   "source": [
    "candidatos_clean = candidatos_clean.replace({'tipoexperiencia':{'NAN':'NO ESPECIFICADO', \n",
    "                                                                '[INDICA EL CONOCIMIENTO]':'NO ESPECIFICADO'}});"
   ]
  },
  {
   "cell_type": "markdown",
   "metadata": {},
   "source": [
    "Verifying changes"
   ]
  },
  {
   "cell_type": "code",
   "execution_count": 29,
   "metadata": {},
   "outputs": [],
   "source": [
    "# match all\n",
    "b = candidatos_clean[candidatos_clean['tipoexperiencia'].str.match(pat = r'.*NING.*', case=False)].tipoexperiencia"
   ]
  },
  {
   "cell_type": "code",
   "execution_count": 30,
   "metadata": {},
   "outputs": [
    {
     "name": "stdout",
     "output_type": "stream",
     "text": [
      "NINGUNA    39451\n",
      "Name: tipoexperiencia, dtype: int64\n"
     ]
    }
   ],
   "source": [
    "# show all and count values\n",
    "with pd.option_context('display.max_rows', None, 'display.max_columns', None):\n",
    "    print(b.value_counts())"
   ]
  },
  {
   "cell_type": "code",
   "execution_count": 31,
   "metadata": {},
   "outputs": [
    {
     "data": {
      "text/plain": [
       "NO ESPECIFICADO                                                          736531\n",
       "NINGUNA                                                                   39451\n",
       "VENTAS                                                                    11475\n",
       "AYUDANTE GENERAL                                                           9272\n",
       "AUXILIAR ADMINISTRATIVO                                                    5362\n",
       "ADMINISTRATIVO                                                             5349\n",
       "COMPUTACION                                                                4791\n",
       "CHOFER                                                                     4237\n",
       "ATENCION A CLIENTES                                                        3351\n",
       "ADMINISTRACION                                                             3112\n",
       "ALMACENISTA                                                                3065\n",
       "COMPUTADORA                                                                3011\n",
       "LIMPIEZA                                                                   2971\n",
       "OPERARIO                                                                   2752\n",
       "OBRERO                                                                     2658\n",
       "OFFICE                                                                     2571\n",
       "AYUDANTE                                                                   2467\n",
       "ALMACEN                                                                    2164\n",
       "ATENCION AL CLIENTE                                                        2129\n",
       "CAJERA                                                                     2093\n",
       "MANEJO DE PERSONAL                                                         2058\n",
       "CAJERO                                                                     2057\n",
       "RECURSOS HUMANOS                                                           1782\n",
       "CONTABILIDAD                                                               1738\n",
       "JORNALERO AGRICOLA                                                         1672\n",
       "ACTIVIDADES GENERALES EN OPERACIONES                                       1670\n",
       "ADMINISTRATIVOS                                                            1659\n",
       "AUXILIAR CONTABLE                                                          1621\n",
       "EMPLEADO GENERAL                                                           1603\n",
       "NO                                                                         1599\n",
       "                                                                          ...  \n",
       "ENTRADAS Y SALIDAS EN PLCS ALLEN BRADLEY Y SIEMENS                            1\n",
       "MOTOCICLISTA  MENSAJERO GESTOR COBRADOR REPARTIDOR                            1\n",
       "CONOSCO EL TRANSPORTE PUBLICO DF                                              1\n",
       "ENFERMERIA PRIMER NIVEL                                                       1\n",
       "PLOMERIA Y ALBAÑILERIA                                                        1\n",
       "MANEJO PROGRAMAS PARA DISEÑO                                                  1\n",
       "JUICIOS MERCANTILES CIVILES FAMILIARES ORALES...                              1\n",
       "INGENIERO DE INFORMATICA                                                      1\n",
       "CAJAS COBRANZA CAMBACEO CARTERA CREDITO EXPEDIENTE                            1\n",
       "MANEJO DE CAMIONETA DE 1.5 TN.                                                1\n",
       "DERECHO CIVIL, MERCANTIL, PENAL Y LABORAL                                     1\n",
       "ALMACENES Y ADMINISTRACION DE TIENDAS                                         1\n",
       "MANEJO DIFERENTES SISTEMAS DE EDICIÓN Y DISEÑO MUL                            1\n",
       "INVENTARIOS LOMAS                                                             1\n",
       "DOMINIO  EN VH SPRINTER NISSAN Y FIAT DUCATTO                                 1\n",
       "MECANICA DE BICICLETAS                                                        1\n",
       "DE OFICIONA                                                                   1\n",
       "ANALISTA DE DATOS, CAPTURA, DIGITALIZACION Y CALIDAD DE IMAGEN                1\n",
       "ELABORACION DE REPORTES FACTURACION BASES DE DATOS  OFICIOS Y ARCHIVO         1\n",
       "SECRETARIA, GUARDERIAS,                                                       1\n",
       "VENTAS DE MOSTRADOR Y ATENCION A CLIENTE                                      1\n",
       "ELECTRICIDAD PLOMERIA ALBAÑILERIA MANEJO DE OFFICE                            1\n",
       "EN VARIAS RAMAS E SIDO VIGILANTE PERO QUIERO COSAS                            1\n",
       "PRODUCCION DE HONGOS SETAS                                                    1\n",
       "ELECTRÓNICA MECÁNICA Y AUTOMATIZACIÓN                                         1\n",
       "DISEÑO  GRAFICO COMPUTACION Y SOFTWARES                                       1\n",
       "DIBUJO DE PLANOS DE EDIFICACIÓN                                               1\n",
       "VIAJES                                                                        1\n",
       "MAQUINAS Y HERRAMIENTAS CONVENCIONALES                                        1\n",
       "ADMININISTRADOR DE ARCHIVOS                                                   1\n",
       "Name: tipoexperiencia, Length: 140294, dtype: int64"
      ]
     },
     "execution_count": 31,
     "metadata": {},
     "output_type": "execute_result"
    }
   ],
   "source": [
    "candidatos_clean.tipoexperiencia.value_counts()"
   ]
  },
  {
   "cell_type": "markdown",
   "metadata": {},
   "source": [
    "<a id='lengua_indigena'></a>\n",
    "[Return to Assesment](#assess1)\n",
    "### 7. Values in `clen_idcvelengua` must be completed"
   ]
  },
  {
   "cell_type": "code",
   "execution_count": 32,
   "metadata": {},
   "outputs": [
    {
     "data": {
      "text/plain": [
       "array(['No', 'NO', 'Si, NAHUAT', '0', 'Si, TZELTZ', 'Si, TOTONA',\n",
       "       'Si, TZOTZI', 'Si, POPOLU', 'Si, TOJOLA', 'Si, PUREPE',\n",
       "       'Si, POPOLO', 'Si, CHOL', 'Si, HUASTE', 'Si, OTRAS ', 'Si, NO ESP',\n",
       "       'Si, MIXTEC', 'Si, ZAPOTE', 'Si, MAZATE', 'Si, AGUACA',\n",
       "       'Si, OTOMI', 'Si, MAZAHU', 'Si, DE LAL', 'Si, PAPAGO', 'Si, SERI',\n",
       "       'Si, HUICHO', 'Si, CHINAN', 'Si, TRIQUI', 'Si, AMUZGO',\n",
       "       'Si, MOTOCI', 'Si, ZOQUE', 'Si, MAYA', 'Si, MIXE', 'Si, CHATIN',\n",
       "       'Si, TLAPAN', 'Si, CUCAPA', 'Si, MATLAT', 'Si, LACAND', 'Si, MAYO'],\n",
       "      dtype=object)"
      ]
     },
     "execution_count": 32,
     "metadata": {},
     "output_type": "execute_result"
    }
   ],
   "source": [
    "candidatos_clean.clen_idcvelengua.unique()"
   ]
  },
  {
   "cell_type": "code",
   "execution_count": 33,
   "metadata": {},
   "outputs": [],
   "source": [
    "candidatos_clean = candidatos_clean.replace({'clen_idcvelengua':{'Si, NAHUAT':'Nahuatl','Si, TZELTZ':'Tzeltal',\n",
    "                                        'Si, TOTONA':'Totonaca', 'Si, TZOTZI':'Tzotzil','Si, POPOLU':'Popoluca',\n",
    "                                        'Si, TOJOLA':'Tojolabal', 'Si, PUREPE':'Purepecha', 'Si, POPOLO':'Popoloca',\n",
    "                                        'Si, CHOL':'Chol', 'Si, HUASTE':'Huasteco', 'Si, OTRAS ':'Otras', \n",
    "                                        'Si, NO ESP':'No Español', 'Si, MIXTEC':'Mixteco', 'Si, ZAPOTE':'Zapoteco',\n",
    "                                        'Si, MAZATE':'Mazateco', 'Si, AGUACA':'Aguacateco','Si, OTOMI':'Otomí',\n",
    "                                        'Si, MAZAHU':'Mazahua', 'Si, DE LAL':'De Lal', 'Si, PAPAGO':'Pápago', \n",
    "                                        'Si, SERI':'Seri', 'Si, HUICHO':'Huichol', 'Si, CHINAN':'Chinanteco', \n",
    "                                        'Si, TRIQUI':'Triqui', 'Si, AMUZGO':'Amuzgo','Si, MOTOCI':'Motozintleco',\n",
    "                                        'Si, ZOQUE':'Zoque', 'Si, MAYA':'Maya', 'Si, MIXE':'Mixe', \n",
    "                                        'Si, CHATIN':'Chatino', 'Si, TLAPAN':'Tlapaneco', 'Si, CUCAPA':'Cucapa', \n",
    "                                        'Si, MATLAT':'Matlatzinca', 'Si, LACAND':'Lacandón', 'Si, MAYO':'Mayo' }})"
   ]
  },
  {
   "cell_type": "code",
   "execution_count": 34,
   "metadata": {},
   "outputs": [],
   "source": [
    "candidatos_clean = candidatos_clean.replace({'clen_idcvelengua':{'NO':'No', '0':'No'}})"
   ]
  },
  {
   "cell_type": "code",
   "execution_count": 35,
   "metadata": {},
   "outputs": [
    {
     "data": {
      "text/plain": [
       "array(['No', 'Nahuatl', 'Tzeltal', 'Totonaca', 'Tzotzil', 'Popoluca',\n",
       "       'Tojolabal', 'Purepecha', 'Popoloca', 'Chol', 'Huasteco', 'Otras',\n",
       "       'No Español', 'Mixteco', 'Zapoteco', 'Mazateco', 'Aguacateco',\n",
       "       'Otomí', 'Mazahua', 'De Lal', 'Pápago', 'Seri', 'Huichol',\n",
       "       'Chinanteco', 'Triqui', 'Amuzgo', 'Motozintleco', 'Zoque', 'Maya',\n",
       "       'Mixe', 'Chatino', 'Tlapaneco', 'Cucapa', 'Matlatzinca',\n",
       "       'Lacandón', 'Mayo'], dtype=object)"
      ]
     },
     "execution_count": 35,
     "metadata": {},
     "output_type": "execute_result"
    }
   ],
   "source": [
    "candidatos_clean.clen_idcvelengua.unique()"
   ]
  },
  {
   "cell_type": "markdown",
   "metadata": {},
   "source": [
    "<a id='uplowcase'></a>\n",
    "[Return to Assesment](#assess1)\n",
    "### 8. `area` and `subarea` have mixed upper and lowercase values\n"
   ]
  },
  {
   "cell_type": "code",
   "execution_count": 36,
   "metadata": {},
   "outputs": [],
   "source": [
    "candidatos_clean.area = candidatos_clean.area.str.upper()\n",
    "candidatos_clean.subarea = candidatos_clean.subarea.str.upper()"
   ]
  },
  {
   "cell_type": "code",
   "execution_count": 37,
   "metadata": {},
   "outputs": [
    {
     "data": {
      "text/plain": [
       "{'ADMINISTRACIÓN': 112359,\n",
       " 'APOYO DE OFICINA': 88571,\n",
       " 'CALL CENTER Y SERVICIO AL CLIENTE': 14772,\n",
       " 'CEO Y DIRECCIÓN GENERAL': 28027,\n",
       " 'CIENCIAS Y TECNOLOGÍA': 12328,\n",
       " 'CONSERVACIÓN AGRÍCOLA Y ANIMALES': 25904,\n",
       " 'CONSTRUCCIÓN': 21047,\n",
       " 'CONSULTORÍA Y ESTRATEGIA': 3899,\n",
       " 'CONTABILIDAD': 47572,\n",
       " 'DEPORTES Y RECREACIÓN': 3240,\n",
       " 'DISEÑO': 16296,\n",
       " 'EDUCACIÓN Y CAPACITACIÓN': 34786,\n",
       " 'GOBIERNO Y DEFENSA': 28221,\n",
       " 'INDUSTRIAS Y ACTIVIDADES CREATIVAS': 4229,\n",
       " 'INGENIERÍA': 46837,\n",
       " 'INSTALACIÓN, MANTENIMIENTO, Y REPARACIÓN': 44359,\n",
       " 'LEGAL': 27383,\n",
       " 'MANUFACTURA Y PRODUCCIÓN': 39516,\n",
       " 'MEDIOS DE COMUNICACIÓN Y PUBLICIDAD': 3932,\n",
       " 'MERCADOTECNIA Y COMERCIALIZACIÓN': 13595,\n",
       " 'MINERÍA Y ENERGÍA': 2182,\n",
       " 'OFICIOS Y SERVICIOS': 156904,\n",
       " 'PROPIEDADES Y BIENES RAÍCES': 682,\n",
       " 'RECURSOS HUMANOS Y RECLUTAMIENTO': 60715,\n",
       " 'SECTOR SALUD / MEDICINA': 84690,\n",
       " 'SEGUROS, FIANZAS Y PENSIONES': 983,\n",
       " 'SERVICIOS A LA COMUNIDAD': 19475,\n",
       " 'SERVICIOS BANCARIOS Y FINANCIEROS': 36987,\n",
       " 'TECNOLOGÍAS DE LA INFORMACIÓN Y COMUNICACIÓN': 53777,\n",
       " 'TRANSPORTE, DISTRIBUCIÓN Y LOGÍSTICA': 88606,\n",
       " 'TURISMO, HOSPEDAJE Y RESTAURANTES': 20637,\n",
       " 'VENTAS': 123344}"
      ]
     },
     "execution_count": 37,
     "metadata": {},
     "output_type": "execute_result"
    }
   ],
   "source": [
    "# Verify there are no lowercase values in area\n",
    "unique2, counts2 = np.unique(candidatos_clean.area, return_counts=True)\n",
    "dict(zip(unique2, counts2))"
   ]
  },
  {
   "cell_type": "code",
   "execution_count": 38,
   "metadata": {},
   "outputs": [
    {
     "data": {
      "text/plain": [
       "{'ACABADOS (YESERO, AZULEJERO, PASTERO, ETC)': 70,\n",
       " 'ACTUARÍA': 131,\n",
       " 'ADMINISTRACIÓN': 398,\n",
       " 'ADMINISTRACIÓN / GESTIÓN / DIRECCIÓN': 4366,\n",
       " 'ADMINISTRACIÓN BANCARIA': 1852,\n",
       " 'ADMINISTRACIÓN COMERCIAL Y VENTAS': 8828,\n",
       " 'ADMINISTRACIÓN DE ESPACIOS': 533,\n",
       " 'ADMINISTRACIÓN DE LA PLANTA PRODUCTIVA': 1889,\n",
       " 'ADMINISTRACIÓN DEL PERSONAL': 725,\n",
       " 'ADMINISTRACIÓN GENERAL': 111824,\n",
       " 'ADMINISTRACIÓN PÚBLICA': 363,\n",
       " 'ADQUISICIONES E INVENTARIO': 38283,\n",
       " 'AGENCIAS DE VIAJES / CONSULTORES': 522,\n",
       " 'AGENTES DE RECAUDACIÓN TRIBUTARIA': 363,\n",
       " 'AGRONOMÍA Y SERVICIOS AGRÍCOLAS': 9951,\n",
       " 'AGROPECUARÍA Y SERVICIOS AVÍCOLAS,  GANADEROS , PECUARIOS Y APÍCOLAS': 515,\n",
       " 'ALIMENTARIA': 152,\n",
       " 'ANÁLISIS ECONÓMICO': 1646,\n",
       " 'ANÁLISIS SOCIAL Y ANTROPOLÓGICO': 1423,\n",
       " 'APOYO A TERCERA EDAD Y DISCAPACIDAD': 2464,\n",
       " 'APOYO ESCOLAR': 297,\n",
       " 'APOYO Y COORDINACIÓN DE VOLUNTARIADO/PROMOTOR COMUNITARIO': 11248,\n",
       " 'APOYO Y GESTIÓN EN OFICINAS LEGALES': 10450,\n",
       " 'APUESTAS Y JUEGOS DE AZAR': 23,\n",
       " 'ARQUITECTOS TECNOLÓGICOS': 267,\n",
       " 'ARTES CREATIVAS': 1665,\n",
       " 'ARTESANIA EN PRODUCTOS DE METAL, MADERA, VIDRIO, CERÁMICA, PAPEL, CARTÓN, TEXTILES, BEJUCO, VARA, PALMA, CARRIZO, MIMBRE,CAUCHO,PLASTICO Y DE CUERO Y PIEL': 9206,\n",
       " 'ARTESANOS QUE TRABAJAN CON PIEDRA Y ARENA': 16,\n",
       " 'ASESORAMIENTO PSICOLÓGICO Y TRABAJO SOCIAL': 40735,\n",
       " 'ASESORÍA Y CONSULTORÍA': 2265,\n",
       " 'ASISTENCIA A LA VENTA': 52907,\n",
       " 'ASISTENCIA ACADÉMICA': 6456,\n",
       " 'ASISTENCIA EJECUTIVA Y/O PERSONAL': 18754,\n",
       " 'AUDITORÍA': 3927,\n",
       " 'AUXILIAR CONTABLE/APOYO CONTABLE': 21148,\n",
       " 'BAILE Y DANZA': 114,\n",
       " 'BASE DE DATOS': 2339,\n",
       " 'CAJA': 31331,\n",
       " 'CALEFACCIÓN, AIRE ACONDICIONADO Y REFRIGERACIÓN': 1927,\n",
       " 'CARNICERÍA': 624,\n",
       " 'CARPINTERÍA Y EBANISTERÍA': 1819,\n",
       " 'CIENCIAS BIOLÓGICAS Y BIOMÉDICAS': 4324,\n",
       " 'COCINA': 17227,\n",
       " 'COMERCIAL, VENTAS Y PROMOCIONES': 648,\n",
       " 'COMERCIALIZACIÓN DIRECTA Y GESTIÓN AL CLIENTE (CRM)': 4595,\n",
       " 'COMERCIANTES Y VENDEDORES': 28559,\n",
       " 'COMERCIO Y ADUANA (IMPORTACIÓN / EXPORTACIÓN)': 2187,\n",
       " 'COMERCIO Y VENTAS DE TECNOLOGÍA': 124,\n",
       " 'COMUNICACIONES INTERNAS': 2033,\n",
       " 'CONSERVACIÓN DE LOS PARQUES Y VIDA SILVESTRE': 118,\n",
       " 'CONTABILIDAD GENERAL': 12511,\n",
       " 'CONTROL DE CALIDAD': 1757,\n",
       " 'COORDINACIÓN DE VENTAS': 14982,\n",
       " 'CRÉDITO Y COBRANZA': 9986,\n",
       " 'DERECHO FISCAL': 331,\n",
       " 'DESARROLLO COMUNITARIO': 136,\n",
       " 'DESARROLLO ORGANIZACIONAL': 136,\n",
       " 'DESECHOS MATERIALES Y PLÁSTICO': 21771,\n",
       " 'DIBUJO ARQUITECTÓNICO': 1386,\n",
       " 'DIRECCIÓN / ADMINISTRACIÓN': 1452,\n",
       " 'DIRECCIÓN / GESTIÓN': 3869,\n",
       " 'DIRECCIÓN CREATIVA Y ARTE': 126,\n",
       " 'DIRECCIÓN EJECUTIVO (CEO)': 431,\n",
       " 'DIRECCIÓN GENERAL / ADMINISTRACIÓN MÉDICA': 661,\n",
       " 'DISEÑO ARQUITECTÓNICO Y ESTRUCTURAL': 9411,\n",
       " 'DISEÑO DE INTERIORES': 1142,\n",
       " 'DISEÑO GRÁFICO  ': 7322,\n",
       " 'DISEÑO INDUSTRIAL  ': 1224,\n",
       " 'EDICIÓN Y PUBLICACIONES': 1091,\n",
       " 'EDUCACIÓN CONTINUA': 298,\n",
       " 'ELABORACIÓN Y PROCESAMIENTO DE ALIMENTOS Y BEBIDAS , INCLUIDOS  LÁCTEOS , CARNE, PESCADO, CEREALES, HARINAS,  CACAO, FRUTAS , VERDURAS  Y TABACO,  Y SUS DERIVADOS   (464)': 11597,\n",
       " 'ELECTRICISTAS': 2638,\n",
       " 'ELECTROMECÁNICA': 1629,\n",
       " 'EMBARQUE, DISTRIBUCIÓN, LOGÍSTICA': 10432,\n",
       " 'EMERGENCIAS / PARAMÉDICOS / AMBULANCIA': 3953,\n",
       " 'ENFERMERÍA ESPECIALISTA': 424,\n",
       " 'ENFERMERÍA GENERAL': 9821,\n",
       " 'ENSEÑANZA DE PRIMERA INFANCIA': 5245,\n",
       " 'ENSEÑANZA EN IDIOMAS': 1184,\n",
       " 'ENSEÑANZA MEDIA SUPERIOR': 2130,\n",
       " 'ENSEÑANZA PRIMARIA': 2099,\n",
       " 'ENSEÑANZA SECUNDARIA': 1581,\n",
       " 'ENSEÑANZA UNIVERSITARIA O SUPERIOR': 2023,\n",
       " 'ENTREGAS Y EMPAQUES': 4290,\n",
       " 'ENTRENAMIENTO E INSTRUCCIÓN': 391,\n",
       " 'ENTRENAMIENTO PERSONAL Y ESTADO FÍSICO': 921,\n",
       " 'ENTRETENIMIENTO': 120,\n",
       " 'ESCENOGRAFÍA': 97,\n",
       " 'ESPECIALISTAS MÉDICOS': 3543,\n",
       " 'ESTADÍSTICAS MATEMÁTICAS Y CIENCIAS DE LA INFORMACIÓN': 767,\n",
       " 'ESTRATEGIA Y PLANIFICACIÓN': 131,\n",
       " 'ESTUDIOS DE IMAGENOLOGÍA MÉDICA': 693,\n",
       " 'FARMACÉUTICA': 1290,\n",
       " 'FILOSOFÍA Y LETRAS': 247,\n",
       " 'FINANZAS CORPORATIVAS E INVERSIÓN BANCARIA': 2256,\n",
       " 'FISIOTERAPIA Y REHABILITACIÓN': 715,\n",
       " 'FLETE DE MERCANCÍAS': 5815,\n",
       " 'FORMACIÓN PARA EL TRABAJO': 3656,\n",
       " 'FOTOGRAFÍA ': 600,\n",
       " 'GASTRONOMÍA (CHEFS / COCINEROS) ': 4351,\n",
       " 'GERENCIA DE ALIMENTOS Y BEBIDAS': 183,\n",
       " 'GERENCIA DE MARCA': 276,\n",
       " 'GERENCIA DE UNIDAD DE NEGOCIO': 27328,\n",
       " 'GESTIÓN': 1235,\n",
       " 'GESTIÓN ACADÉMICA': 5280,\n",
       " 'GESTIÓN DE CUENTAS': 1548,\n",
       " 'GESTIÓN DE EVENTOS': 373,\n",
       " 'GESTIÓN DE PROGRAMAS Y PROYECTOS': 5299,\n",
       " 'GESTIÓN DE PROYECTOS / DIRECCIÓN DE OBRA': 5343,\n",
       " 'GESTIÓN DE SERVICIOS AGRÍCOLA Y ANIMALES': 484,\n",
       " 'HERRERO': 922,\n",
       " 'HORTICULTURA': 753,\n",
       " 'IMPERMEABILIZANTES': 9,\n",
       " 'IMPRESIÓN Y PUBLICACIÓN': 2404,\n",
       " 'INDUSTRIA DE LA CONSTRUCCIÓN': 4119,\n",
       " 'INGENIERO EN TOPOGRAFÍA , HIDROLOGÍA, GEOLOGÍA Y GEODESIA': 1487,\n",
       " 'INGENIERÍA  ELECTRÓNICA': 5526,\n",
       " 'INGENIERÍA AGRÓNOMA': 2165,\n",
       " 'INGENIERÍA AMBIENTAL': 2597,\n",
       " 'INGENIERÍA BIOMÉDICA': 256,\n",
       " 'INGENIERÍA CIVIL': 5533,\n",
       " 'INGENIERÍA DE MATERIALES / METALURGIA / FUNDICIÓN': 840,\n",
       " 'INGENIERÍA ELECTROMECÁNICA': 418,\n",
       " 'INGENIERÍA ELÉCTRICA ': 2168,\n",
       " 'INGENIERÍA INDUSTRIAL': 15514,\n",
       " 'INGENIERÍA MECÁNICA': 5391,\n",
       " 'INGENIERÍA QUÍMICA': 4942,\n",
       " 'INSTALACIÓN, MANTENIMIENTO Y REPARACIÓN': 18146,\n",
       " 'INSTRUMENTOS DE PRECISIÓN': 184,\n",
       " 'INTELIGENCIA ARTIFICIAL': 102,\n",
       " 'INVESTIGACIÓN': 445,\n",
       " 'INVESTIGACIÓN DE MERCADO Y OPINIÓN PÚBLICA': 39,\n",
       " 'INVESTIGACIÓN, ASISTENCIA Y ANÁLISIS DE MERCADO': 5041,\n",
       " 'JARDINERÍA Y PAISAJISMO': 1677,\n",
       " 'JUNTA DIRECTIVA': 268,\n",
       " 'LABORATORIO / PATOLOGÍA': 1304,\n",
       " 'LITIGIOS Y RESOLUCIÓN DE DISPUTAS': 16602,\n",
       " 'LÍNEAS DE TELECOMUNICACIONES': 1627,\n",
       " 'MADERA Y REFORESTACIÓN': 1175,\n",
       " 'MANEJO DE DOCUMENTOS, CAPTURA Y ARCHIVOS': 19596,\n",
       " 'MANTENIMIENTO ELECTRÓNICO': 1519,\n",
       " 'MANTENIMIENTO ELÉCTRICO': 1131,\n",
       " 'MANTENIMIENTO GENERAL': 3355,\n",
       " 'MANTENIMIENTO MECÁNICO': 6965,\n",
       " 'MANTENIMIENTO Y REPARACIÓN DE MAQUINARIA INDUSTRIAL': 9211,\n",
       " 'MAQUINAS HERRAMIENTAS': 6680,\n",
       " 'MEDICINA GENERAL': 6396,\n",
       " 'MENSAJERÍA': 1837,\n",
       " 'MENSAJERÍA Y SERVICIOS POSTALES': 98,\n",
       " 'MODA Y DISEÑO TEXTIL  ': 7750,\n",
       " 'MONTAJE Y PROCESO DE TRABAJO': 6470,\n",
       " 'MUSEOS': 118,\n",
       " 'MÚSICA': 342,\n",
       " 'NECESIDADES ESPECIALES': 536,\n",
       " 'NUTRICIÓN': 6434,\n",
       " 'OFTALMOLOGÍA /   OPTOMETRÍA ': 291,\n",
       " 'OPERACIONES': 9121,\n",
       " 'OPERACIONES MINERAS': 179,\n",
       " 'OPERACIÓN DE PLANTA Y MAQUINARIA': 1130,\n",
       " 'PEDAGOGÍA Y TUTORÍA': 2070,\n",
       " 'PERIODISMO Y ESCRITURA': 832,\n",
       " 'PESCA Y ACUICULTURA': 158,\n",
       " 'PETRÓLEO Y GAS-EXPLORACIÓN Y CIENCIAS DE LA TIERRA': 1786,\n",
       " 'PINTURA, INCLUIDO ROTULISTA': 952,\n",
       " 'PLOMERO': 372,\n",
       " 'PLOMERÍA': 152,\n",
       " 'POLICÍA E INSTALACIONES PENITENCIARIAS': 5975,\n",
       " 'POLÍTICAS PÚBLICAS': 660,\n",
       " 'PRODUCCIÓN AUDIOVISUAL': 779,\n",
       " 'PRODUCCIÓN DE CONTENIDOS EDUCATIVOS DIGITALES': 58,\n",
       " 'PRODUCCIÓN GRÁFICA , ILUSTRACIÓN Y ANIMACIÓN': 89,\n",
       " 'PRODUCTOS FARMACÉUTICOS Y DISPOSITIVOS MÉDICOS': 1563,\n",
       " 'PROGRAMACIÓN Y PRODUCCIÓN EN MEDIOS': 85,\n",
       " 'PROTECCIÓN E HIGIENE EN COMUNIDADES': 667,\n",
       " 'PRUEBAS Y ASEGURAMIENTO DE LA CALIDAD': 10855,\n",
       " 'QUÍMICA Y FÍSICA': 6443,\n",
       " 'RADIO, TELEVISIÓN Y OTROS MEDIOS MASIVOS DE COMUNICACIÓN': 303,\n",
       " 'RECEPCIÓN Y ATENCIÓN AL PÚBLICO': 48108,\n",
       " 'RECEPCIÓN, ATENCIÓN Y SERVICIOS AL CLIENTE ': 1406,\n",
       " 'RECLUTAMIENTO Y SELECCIÓN DE PERSONAL': 1504,\n",
       " 'RECREACIÓN': 35,\n",
       " 'RECURSOS HUMANOS': 49222,\n",
       " 'REDACCIÓN   ': 449,\n",
       " 'REPARACIÓN DE APARATOS ELECTRODOMÉSTICOS /SISTEMAS DE ALARMA Y SEGURIDAD': 958,\n",
       " 'REPARACIÓN DE CARROCERÍA Y PINTURA AUTOMOTRIZ': 721,\n",
       " 'REPARACIÓN DE MOTORES Y HERRAMIENTAS ELÉCTRICAS': 89,\n",
       " 'REPRESENTACIÓN DE VENTAS': 42958,\n",
       " 'SALUD Y SEGURIDAD EN EL TRABAJO': 6909,\n",
       " 'SECRETARIAL': 276,\n",
       " 'SEGURIDAD E HIGIENE Y SALUD PÚBLICA': 1873,\n",
       " 'SEGURIDAD PÚBLICA Y PRIVADA': 20079,\n",
       " 'SEGURIDAD SALUD Y MEDIO AMBIENTE': 1755,\n",
       " 'SERVICIO AL CLIENTE (CALL CENTER)/ EJECUTIVO TELEFÓNICO': 9329,\n",
       " 'SERVICIO DE AJUSTE, TORNO Y MAQUINARIA': 991,\n",
       " 'SERVICIO DE BAR Y BEBIDAS': 1359,\n",
       " 'SERVICIO DE CERRAJERÍA': 38,\n",
       " 'SERVICIO DE CUIDADO, VIGILANCIA Y/O LIMPIEZA (CONSERJE)  ': 292,\n",
       " 'SERVICIO DE GUÍAS TURÍSTICOS': 200,\n",
       " 'SERVICIO DE MESEROS / CAMAREROS': 7660,\n",
       " 'SERVICIO DE NIÑERAS Y CUIDADORAS': 649,\n",
       " 'SERVICIO DENTAL ': 2888,\n",
       " 'SERVICIO ELÉCTRICO': 1352,\n",
       " 'SERVICIO TÉCNICO AUTOMOTRIZ /MECÁNICA DE AUTOBUSES Y CAMIONES / ESPECIALISTAS MOTOR DIESEL': 7109,\n",
       " 'SERVICIOS AERONÁUTICOS': 359,\n",
       " 'SERVICIOS AÉREOS / AEROLÍNEAS': 41,\n",
       " 'SERVICIOS DE AVIACIÓN': 101,\n",
       " 'SERVICIOS DE BELLEZA Y CABELLO': 11334,\n",
       " 'SERVICIOS DE BIBLIOTECA Y GESTIÓN DE LA INFORMACIÓN': 632,\n",
       " 'SERVICIOS DE EMERGENCIA': 201,\n",
       " 'SERVICIOS DE EMPLEO': 2177,\n",
       " 'SERVICIOS DE LIMPIEZA': 27761,\n",
       " 'SERVICIOS DE SPA': 410,\n",
       " 'SERVICIOS DE VETERINARIA Y BIENESTAR DE LOS ANIMALES': 1430,\n",
       " 'SERVICIOS FUNERARIOS': 2602,\n",
       " 'SERVICIOS PÚBLICOS': 1240,\n",
       " 'SERVICIOS Y ASESORÍA CORPORATIVA': 535,\n",
       " 'SINIESTROS / SEGUROS / REASEGUROSN (AJUSTADOR SINIESTROS)/ RECLAMACIONES': 852,\n",
       " 'SOFTWARE Y APLICACIONES': 16629,\n",
       " 'SOLDADORES': 5083,\n",
       " 'SOPORTE Y HARDWARE': 11227,\n",
       " 'SUPERVISIÓN ATENCIÓN AL CLIENTE': 3941,\n",
       " 'SUPERVISIÓN DE MECÁNICOS, INSTALADORES Y REPARADORES': 2399,\n",
       " 'SUPERVISIÓN E INSPECCIÓN EDUCATIVA': 1299,\n",
       " 'SUPERVISIÓN Y ADMINISTRACIÓN DE OBRA': 2272,\n",
       " 'SUPERVISOR DE PISO': 5281,\n",
       " 'TAPICERIA': 108,\n",
       " 'TECNOLOGÍA INTERACTIVA Y CONTENIDO DIGITAL': 1689,\n",
       " 'TELECOMUNICACIONES': 2907,\n",
       " 'TERAPIAS NATURALES Y MEDICINA ALTERNATIVA': 171,\n",
       " 'TEXTIL': 1666,\n",
       " 'TOPOGRAFÍA': 363,\n",
       " 'TRABAJADORES': 4747,\n",
       " 'TRABAJO DE CULTIVO': 11320,\n",
       " 'TRADUCCIÓN': 510,\n",
       " 'TRANSPORTE POR CARRETERA / FERROCARRIL / MARÍTIMO': 9584,\n",
       " 'TRANSPORTE PÚBLICO Y SERVICIO DE TAXIS': 9894,\n",
       " 'TÉCNICOS DE PRÓTESIS MÉDICAS Y DENTALES': 180,\n",
       " 'VALUACIÓN': 401,\n",
       " 'VENTA AL POR MENOR /VENTA AL POR MAYOR': 3651,\n",
       " 'VENTAS': 1520,\n",
       " 'VENTAS Y ARRENDAMIENTO RESIDENCIAL Y GESTIÓN DE LA PROPIEDAD ': 281,\n",
       " 'ZAPATEROS': 587,\n",
       " 'ÁRBITROS Y JUECES DEPORTIVOS': 7}"
      ]
     },
     "execution_count": 38,
     "metadata": {},
     "output_type": "execute_result"
    }
   ],
   "source": [
    "# Verify there are no lowercase values in subarea\n",
    "unique3, counts3 = np.unique(candidatos_clean.subarea, return_counts=True)\n",
    "dict(zip(unique3, counts3))"
   ]
  },
  {
   "cell_type": "markdown",
   "metadata": {},
   "source": [
    "<a id='col_names'></a>\n",
    "[Return to Assesment](#assess1)\n",
    "### 9. Column names  \n"
   ]
  },
  {
   "cell_type": "markdown",
   "metadata": {},
   "source": [
    "It is suggested to use the rename function to change names to the following:\n",
    "\n",
    "- edocivil -> edo_civil\n",
    "- qempleobusca -> empleo_buscado\n",
    "- salariopretente -> salario_pretendido\n",
    "- tipoexperiencia -> tipo_experiencia\n",
    "- trabajaactualmente ->trabaja_actualmente\n",
    "- motivo  -> motivo_no_trabaja \n",
    "- fchcomienzo_busqueda -> fecha_inicio_busqueda\n",
    "- clen_idcvelengua -> lengua_indigena\n",
    "- tipodiscapacidad -> tipo_discapacidad "
   ]
  },
  {
   "cell_type": "code",
   "execution_count": 39,
   "metadata": {},
   "outputs": [],
   "source": [
    "candidatos_clean.rename(columns={'edocivil':'edo_civil',\n",
    "                                  'qempleobusca':'empleo_buscado',\n",
    "                                  'salariopretente':'salario_pretendido',\n",
    "                                  'tipoexperiencia':'tipo_experiencia',\n",
    "                                  'trabajaactualmente':'trabaja_actualmente',\n",
    "                                  'motivo':'motivo_no_trabaja',\n",
    "                                  'fchcomienzo_busqueda':'fecha_inicio_busqueda',\n",
    "                                  'clen_idcvelengua':'lengua_indigena',\n",
    "                                  'tipodiscapacidad':'tipo_discapacidad'}, inplace=True)"
   ]
  },
  {
   "cell_type": "code",
   "execution_count": 40,
   "metadata": {},
   "outputs": [
    {
     "data": {
      "text/plain": [
       "['id',\n",
       " 'id_solicitante',\n",
       " 'entidadfed_sne',\n",
       " 'sexo',\n",
       " 'edad',\n",
       " 'edo_civil',\n",
       " 'cedo_domicilio',\n",
       " 'nomb_localidad_domicilio',\n",
       " 'escolaridad',\n",
       " 'carrera',\n",
       " 'sit_academica',\n",
       " 'idioma',\n",
       " 'empleo_buscado',\n",
       " 'salario_pretendido',\n",
       " 'tipo_experiencia',\n",
       " 'disp_viajar',\n",
       " 'disp_vivir',\n",
       " 'funciones',\n",
       " 'trabaja_actualmente',\n",
       " 'motivo_no_trabaja',\n",
       " 'fecha_inicio_busqueda',\n",
       " 'lengua_indigena',\n",
       " 'tipo_discapacidad',\n",
       " 'id_ocupacion',\n",
       " 'ocupacion',\n",
       " 'id_area',\n",
       " 'area',\n",
       " 'id_subarea',\n",
       " 'subarea',\n",
       " 'colocados',\n",
       " 'estatus_candidato_colocados']"
      ]
     },
     "execution_count": 40,
     "metadata": {},
     "output_type": "execute_result"
    }
   ],
   "source": [
    "# Verify new column names\n",
    "candidatos_clean.columns.tolist()"
   ]
  },
  {
   "cell_type": "markdown",
   "metadata": {},
   "source": [
    "<a id='categorical'></a>\n",
    "### 10. Define categorical columns "
   ]
  },
  {
   "cell_type": "markdown",
   "metadata": {},
   "source": [
    "Convert to categorical the `escolaridad, sit_academica` columns"
   ]
  },
  {
   "cell_type": "code",
   "execution_count": 41,
   "metadata": {},
   "outputs": [],
   "source": [
    "#Convert to ordered categorical type with custom ordering:\n",
    "cat_escolaridad = pd.api.types.CategoricalDtype(categories=\n",
    "                                              ['SIN INSTRUCCIÓN','SABER LEER Y ESCRIBIR','PRIMARIA'\n",
    "                                              'SECUNDARIA/SEC. TÉCNICA', 'CARRERA COMERCIAL','CARRERA TÉCNICA',\n",
    "                                               'PROFESIONAL TÉCNICO (CONALEP)', 'PREPA O VOCACIONAL',\n",
    "                                              'T. SUPERIOR UNIVERSITARIO','LICENCIATURA', 'MAESTRÍA', 'DOCTORADO'],\n",
    "                                              ordered=True)\n",
    "candidatos_clean.escolaridad = candidatos_clean.escolaridad.astype(cat_escolaridad);"
   ]
  },
  {
   "cell_type": "code",
   "execution_count": 42,
   "metadata": {},
   "outputs": [
    {
     "data": {
      "text/plain": [
       "CategoricalDtype(categories=['SIN INSTRUCCIÓN', 'SABER LEER Y ESCRIBIR',\n",
       "                  'PRIMARIASECUNDARIA/SEC. TÉCNICA', 'CARRERA COMERCIAL',\n",
       "                  'CARRERA TÉCNICA', 'PROFESIONAL TÉCNICO (CONALEP)',\n",
       "                  'PREPA O VOCACIONAL', 'T. SUPERIOR UNIVERSITARIO',\n",
       "                  'LICENCIATURA', 'MAESTRÍA', 'DOCTORADO'],\n",
       "                 ordered=True)"
      ]
     },
     "execution_count": 42,
     "metadata": {},
     "output_type": "execute_result"
    }
   ],
   "source": [
    "candidatos_clean.escolaridad.dtype"
   ]
  },
  {
   "cell_type": "markdown",
   "metadata": {},
   "source": [
    "For `sit_academica` we'll unify 'NINGUNO' and 'NO ESPECIFICADO'"
   ]
  },
  {
   "cell_type": "code",
   "execution_count": 43,
   "metadata": {},
   "outputs": [
    {
     "data": {
      "text/plain": [
       "array(['ESTUDIANTE', 'PASANTE', 'DIPLOMA O CERTIFICADO', 'NINGUNO',\n",
       "       'TRUNCA', 'NO ESPECIFICADO', 'TITULADO'], dtype=object)"
      ]
     },
     "execution_count": 43,
     "metadata": {},
     "output_type": "execute_result"
    }
   ],
   "source": [
    "candidatos_clean.sit_academica.unique()"
   ]
  },
  {
   "cell_type": "code",
   "execution_count": 44,
   "metadata": {},
   "outputs": [],
   "source": [
    "candidatos_clean = candidatos_clean.replace({'sit_academica':{'NINGUNO':'NO ESPECIFICADO'}})"
   ]
  },
  {
   "cell_type": "code",
   "execution_count": 45,
   "metadata": {},
   "outputs": [],
   "source": [
    "#Convert to ordered categorical type with custom ordering:\n",
    "cat_sit_academica = pd.api.types.CategoricalDtype(categories=\n",
    "                                              ['NO ESPECIFICADO','ESTUDIANTE','DIPLOMA O CERTIFICADO','TRUNCA',\n",
    "                                              'PASANTE', 'TITULADO'], ordered=True)\n",
    "candidatos_clean.sit_academica = candidatos_clean.sit_academica.astype(cat_sit_academica);"
   ]
  },
  {
   "cell_type": "code",
   "execution_count": 46,
   "metadata": {},
   "outputs": [
    {
     "data": {
      "text/plain": [
       "[ESTUDIANTE, PASANTE, DIPLOMA O CERTIFICADO, NO ESPECIFICADO, TRUNCA, TITULADO]\n",
       "Categories (6, object): [NO ESPECIFICADO < ESTUDIANTE < DIPLOMA O CERTIFICADO < TRUNCA < PASANTE < TITULADO]"
      ]
     },
     "execution_count": 46,
     "metadata": {},
     "output_type": "execute_result"
    }
   ],
   "source": [
    "candidatos_clean.sit_academica.unique()"
   ]
  },
  {
   "cell_type": "markdown",
   "metadata": {},
   "source": [
    "<a id='store'></a>[Return to Table of Contents](#table)\n",
    "## Storing Data\n",
    "\n",
    "First, we'll get a sample of `candidatos_clean` to verify it is the way we need it."
   ]
  },
  {
   "cell_type": "code",
   "execution_count": 47,
   "metadata": {},
   "outputs": [
    {
     "data": {
      "text/html": [
       "<div>\n",
       "<style scoped>\n",
       "    .dataframe tbody tr th:only-of-type {\n",
       "        vertical-align: middle;\n",
       "    }\n",
       "\n",
       "    .dataframe tbody tr th {\n",
       "        vertical-align: top;\n",
       "    }\n",
       "\n",
       "    .dataframe thead th {\n",
       "        text-align: right;\n",
       "    }\n",
       "</style>\n",
       "<table border=\"1\" class=\"dataframe\">\n",
       "  <thead>\n",
       "    <tr style=\"text-align: right;\">\n",
       "      <th></th>\n",
       "      <th>id</th>\n",
       "      <th>id_solicitante</th>\n",
       "      <th>entidadfed_sne</th>\n",
       "      <th>sexo</th>\n",
       "      <th>edad</th>\n",
       "      <th>edo_civil</th>\n",
       "      <th>cedo_domicilio</th>\n",
       "      <th>nomb_localidad_domicilio</th>\n",
       "      <th>escolaridad</th>\n",
       "      <th>carrera</th>\n",
       "      <th>sit_academica</th>\n",
       "      <th>idioma</th>\n",
       "      <th>empleo_buscado</th>\n",
       "      <th>salario_pretendido</th>\n",
       "      <th>tipo_experiencia</th>\n",
       "      <th>disp_viajar</th>\n",
       "      <th>disp_vivir</th>\n",
       "      <th>funciones</th>\n",
       "      <th>trabaja_actualmente</th>\n",
       "      <th>motivo_no_trabaja</th>\n",
       "      <th>fecha_inicio_busqueda</th>\n",
       "      <th>lengua_indigena</th>\n",
       "      <th>tipo_discapacidad</th>\n",
       "      <th>id_ocupacion</th>\n",
       "      <th>ocupacion</th>\n",
       "      <th>id_area</th>\n",
       "      <th>area</th>\n",
       "      <th>id_subarea</th>\n",
       "      <th>subarea</th>\n",
       "      <th>colocados</th>\n",
       "      <th>estatus_candidato_colocados</th>\n",
       "    </tr>\n",
       "  </thead>\n",
       "  <tbody>\n",
       "    <tr>\n",
       "      <th>956428</th>\n",
       "      <td>605401</td>\n",
       "      <td>1182634702</td>\n",
       "      <td>ESTADO DE MEXICO</td>\n",
       "      <td>MASCULINO</td>\n",
       "      <td>24.0</td>\n",
       "      <td>SOLTERO (A)</td>\n",
       "      <td>ESTADO DE MEXICO</td>\n",
       "      <td>TORREON</td>\n",
       "      <td>LICENCIATURA</td>\n",
       "      <td>Ingeniería mecánica y eléctrica</td>\n",
       "      <td>DIPLOMA O CERTIFICADO</td>\n",
       "      <td>INGLÉS</td>\n",
       "      <td>Ingeniero mecatrónica</td>\n",
       "      <td>6500.0</td>\n",
       "      <td>NO ESPECIFICADO</td>\n",
       "      <td>NO</td>\n",
       "      <td>NO</td>\n",
       "      <td>NaN</td>\n",
       "      <td>NO</td>\n",
       "      <td>NaN</td>\n",
       "      <td>2017-01-27</td>\n",
       "      <td>No</td>\n",
       "      <td>Ninguna</td>\n",
       "      <td>224207</td>\n",
       "      <td>Ingeniero mecatrónica</td>\n",
       "      <td>14</td>\n",
       "      <td>INGENIERÍA</td>\n",
       "      <td>75</td>\n",
       "      <td>INGENIERÍA  ELECTRÓNICA</td>\n",
       "      <td>1</td>\n",
       "      <td>SI</td>\n",
       "    </tr>\n",
       "    <tr>\n",
       "      <th>732157</th>\n",
       "      <td>1033083</td>\n",
       "      <td>1117566702</td>\n",
       "      <td>ESTADO DE MEXICO</td>\n",
       "      <td>FEMENINO</td>\n",
       "      <td>26.0</td>\n",
       "      <td>SOLTERO (A)</td>\n",
       "      <td>ESTADO DE MEXICO</td>\n",
       "      <td>SAN MIGUEL AJUSCO</td>\n",
       "      <td>CARRERA TÉCNICA</td>\n",
       "      <td>Administración</td>\n",
       "      <td>DIPLOMA O CERTIFICADO</td>\n",
       "      <td>NINGUNO</td>\n",
       "      <td>Administrador general</td>\n",
       "      <td>5000.0</td>\n",
       "      <td>NO ESPECIFICADO</td>\n",
       "      <td>NO</td>\n",
       "      <td>NO</td>\n",
       "      <td>Cartera de clientes\\nRecibo de llamadas telefo...</td>\n",
       "      <td>NO</td>\n",
       "      <td>NaN</td>\n",
       "      <td>2017-07-11</td>\n",
       "      <td>No</td>\n",
       "      <td>Ninguna</td>\n",
       "      <td>112201</td>\n",
       "      <td>Administrador general</td>\n",
       "      <td>7</td>\n",
       "      <td>CEO Y DIRECCIÓN GENERAL</td>\n",
       "      <td>25</td>\n",
       "      <td>GERENCIA DE UNIDAD DE NEGOCIO</td>\n",
       "      <td>1</td>\n",
       "      <td>SI</td>\n",
       "    </tr>\n",
       "    <tr>\n",
       "      <th>1180133</th>\n",
       "      <td>186491</td>\n",
       "      <td>1245901502</td>\n",
       "      <td>ESTADO DE MEXICO</td>\n",
       "      <td>FEMENINO</td>\n",
       "      <td>19.0</td>\n",
       "      <td>SOLTERO (A)</td>\n",
       "      <td>BAJA CALIFORNIA</td>\n",
       "      <td>ESPINOZA</td>\n",
       "      <td>CARRERA TÉCNICA</td>\n",
       "      <td>Administración</td>\n",
       "      <td>TITULADO</td>\n",
       "      <td>INGLÉS</td>\n",
       "      <td>0</td>\n",
       "      <td>5200.0</td>\n",
       "      <td>COMPUTADORA</td>\n",
       "      <td>NO</td>\n",
       "      <td>NO</td>\n",
       "      <td>Venta de telas y merceria</td>\n",
       "      <td>SI</td>\n",
       "      <td>NaN</td>\n",
       "      <td>2018-02-20</td>\n",
       "      <td>No</td>\n",
       "      <td>Ninguna</td>\n",
       "      <td>311104</td>\n",
       "      <td>Secretaria recepcionista</td>\n",
       "      <td>3</td>\n",
       "      <td>APOYO DE OFICINA</td>\n",
       "      <td>9</td>\n",
       "      <td>RECEPCIÓN Y ATENCIÓN AL PÚBLICO</td>\n",
       "      <td>1</td>\n",
       "      <td>SI</td>\n",
       "    </tr>\n",
       "    <tr>\n",
       "      <th>717924</th>\n",
       "      <td>1057459</td>\n",
       "      <td>1114114802</td>\n",
       "      <td>ESTADO DE MEXICO</td>\n",
       "      <td>FEMENINO</td>\n",
       "      <td>27.0</td>\n",
       "      <td>SOLTERO (A)</td>\n",
       "      <td>ESTADO DE MEXICO</td>\n",
       "      <td>MIGUEL HIDALGO 1RA. SECCION</td>\n",
       "      <td>LICENCIATURA</td>\n",
       "      <td>Administración de empresas</td>\n",
       "      <td>PASANTE</td>\n",
       "      <td>NINGUNO</td>\n",
       "      <td>Empleado administrativo</td>\n",
       "      <td>6000.0</td>\n",
       "      <td>NO ESPECIFICADO</td>\n",
       "      <td>NO</td>\n",
       "      <td>NO</td>\n",
       "      <td>Atencion a clientes Especialista en planeacion...</td>\n",
       "      <td>NO</td>\n",
       "      <td>NaN</td>\n",
       "      <td>2016-05-31</td>\n",
       "      <td>No</td>\n",
       "      <td>Ninguna</td>\n",
       "      <td>311301</td>\n",
       "      <td>Capturista de datos</td>\n",
       "      <td>3</td>\n",
       "      <td>APOYO DE OFICINA</td>\n",
       "      <td>7</td>\n",
       "      <td>MANEJO DE DOCUMENTOS, CAPTURA Y ARCHIVOS</td>\n",
       "      <td>1</td>\n",
       "      <td>SI</td>\n",
       "    </tr>\n",
       "    <tr>\n",
       "      <th>55413</th>\n",
       "      <td>2139821</td>\n",
       "      <td>226395801</td>\n",
       "      <td>JALISCO</td>\n",
       "      <td>FEMENINO</td>\n",
       "      <td>69.0</td>\n",
       "      <td>CASADO (A)</td>\n",
       "      <td>JALISCO</td>\n",
       "      <td>LAGOS DE MORENO</td>\n",
       "      <td>SABER LEER Y ESCRIBIR</td>\n",
       "      <td>Ninguna</td>\n",
       "      <td>NO ESPECIFICADO</td>\n",
       "      <td>NINGUNO</td>\n",
       "      <td>Ayudante de fabricante de joyería</td>\n",
       "      <td>1500.0</td>\n",
       "      <td>GUSTO Y HABILIDAD POR LA ELABORACION DE BISUTERIA</td>\n",
       "      <td>NO</td>\n",
       "      <td>NO</td>\n",
       "      <td>NaN</td>\n",
       "      <td>NO</td>\n",
       "      <td>Nunca ha trabajado</td>\n",
       "      <td>2016-01-01</td>\n",
       "      <td>No</td>\n",
       "      <td>Ninguna</td>\n",
       "      <td>722301</td>\n",
       "      <td>Joyero</td>\n",
       "      <td>31</td>\n",
       "      <td>OFICIOS Y SERVICIOS</td>\n",
       "      <td>210</td>\n",
       "      <td>ARTESANIA EN PRODUCTOS DE METAL, MADERA, VIDRI...</td>\n",
       "      <td>0</td>\n",
       "      <td>NO</td>\n",
       "    </tr>\n",
       "  </tbody>\n",
       "</table>\n",
       "</div>"
      ],
      "text/plain": [
       "              id  id_solicitante    entidadfed_sne       sexo  edad  \\\n",
       "956428    605401      1182634702  ESTADO DE MEXICO  MASCULINO  24.0   \n",
       "732157   1033083      1117566702  ESTADO DE MEXICO   FEMENINO  26.0   \n",
       "1180133   186491      1245901502  ESTADO DE MEXICO   FEMENINO  19.0   \n",
       "717924   1057459      1114114802  ESTADO DE MEXICO   FEMENINO  27.0   \n",
       "55413    2139821       226395801           JALISCO   FEMENINO  69.0   \n",
       "\n",
       "           edo_civil    cedo_domicilio     nomb_localidad_domicilio  \\\n",
       "956428   SOLTERO (A)  ESTADO DE MEXICO                      TORREON   \n",
       "732157   SOLTERO (A)  ESTADO DE MEXICO            SAN MIGUEL AJUSCO   \n",
       "1180133  SOLTERO (A)   BAJA CALIFORNIA                     ESPINOZA   \n",
       "717924   SOLTERO (A)  ESTADO DE MEXICO  MIGUEL HIDALGO 1RA. SECCION   \n",
       "55413     CASADO (A)           JALISCO              LAGOS DE MORENO   \n",
       "\n",
       "                   escolaridad                          carrera  \\\n",
       "956428            LICENCIATURA  Ingeniería mecánica y eléctrica   \n",
       "732157         CARRERA TÉCNICA                   Administración   \n",
       "1180133        CARRERA TÉCNICA                   Administración   \n",
       "717924            LICENCIATURA       Administración de empresas   \n",
       "55413    SABER LEER Y ESCRIBIR                          Ninguna   \n",
       "\n",
       "                 sit_academica   idioma                     empleo_buscado  \\\n",
       "956428   DIPLOMA O CERTIFICADO   INGLÉS              Ingeniero mecatrónica   \n",
       "732157   DIPLOMA O CERTIFICADO  NINGUNO              Administrador general   \n",
       "1180133               TITULADO   INGLÉS                                  0   \n",
       "717924                 PASANTE  NINGUNO            Empleado administrativo   \n",
       "55413          NO ESPECIFICADO  NINGUNO  Ayudante de fabricante de joyería   \n",
       "\n",
       "         salario_pretendido  \\\n",
       "956428               6500.0   \n",
       "732157               5000.0   \n",
       "1180133              5200.0   \n",
       "717924               6000.0   \n",
       "55413                1500.0   \n",
       "\n",
       "                                          tipo_experiencia disp_viajar  \\\n",
       "956428                                     NO ESPECIFICADO          NO   \n",
       "732157                                     NO ESPECIFICADO          NO   \n",
       "1180133                                        COMPUTADORA          NO   \n",
       "717924                                     NO ESPECIFICADO          NO   \n",
       "55413    GUSTO Y HABILIDAD POR LA ELABORACION DE BISUTERIA          NO   \n",
       "\n",
       "        disp_vivir                                          funciones  \\\n",
       "956428          NO                                                NaN   \n",
       "732157          NO  Cartera de clientes\\nRecibo de llamadas telefo...   \n",
       "1180133         NO                          Venta de telas y merceria   \n",
       "717924          NO  Atencion a clientes Especialista en planeacion...   \n",
       "55413           NO                                                NaN   \n",
       "\n",
       "        trabaja_actualmente   motivo_no_trabaja fecha_inicio_busqueda  \\\n",
       "956428                   NO                 NaN            2017-01-27   \n",
       "732157                   NO                 NaN            2017-07-11   \n",
       "1180133                  SI                 NaN            2018-02-20   \n",
       "717924                   NO                 NaN            2016-05-31   \n",
       "55413                    NO  Nunca ha trabajado            2016-01-01   \n",
       "\n",
       "        lengua_indigena tipo_discapacidad  id_ocupacion  \\\n",
       "956428               No           Ninguna        224207   \n",
       "732157               No           Ninguna        112201   \n",
       "1180133              No           Ninguna        311104   \n",
       "717924               No           Ninguna        311301   \n",
       "55413                No           Ninguna        722301   \n",
       "\n",
       "                        ocupacion  id_area                     area  \\\n",
       "956428      Ingeniero mecatrónica       14               INGENIERÍA   \n",
       "732157      Administrador general        7  CEO Y DIRECCIÓN GENERAL   \n",
       "1180133  Secretaria recepcionista        3         APOYO DE OFICINA   \n",
       "717924        Capturista de datos        3         APOYO DE OFICINA   \n",
       "55413                      Joyero       31      OFICIOS Y SERVICIOS   \n",
       "\n",
       "         id_subarea                                            subarea  \\\n",
       "956428           75                            INGENIERÍA  ELECTRÓNICA   \n",
       "732157           25                      GERENCIA DE UNIDAD DE NEGOCIO   \n",
       "1180133           9                    RECEPCIÓN Y ATENCIÓN AL PÚBLICO   \n",
       "717924            7           MANEJO DE DOCUMENTOS, CAPTURA Y ARCHIVOS   \n",
       "55413           210  ARTESANIA EN PRODUCTOS DE METAL, MADERA, VIDRI...   \n",
       "\n",
       "         colocados estatus_candidato_colocados  \n",
       "956428           1                          SI  \n",
       "732157           1                          SI  \n",
       "1180133          1                          SI  \n",
       "717924           1                          SI  \n",
       "55413            0                          NO  "
      ]
     },
     "execution_count": 47,
     "metadata": {},
     "output_type": "execute_result"
    }
   ],
   "source": [
    "candidatos_clean.sample(5)"
   ]
  },
  {
   "cell_type": "markdown",
   "metadata": {},
   "source": [
    "Then proceed to save it. Make sure to specify index=False and utf-8 encoding.\n",
    "\n",
    "utf-8 ensures that special characters in Spanish as accents and ñ will be saved."
   ]
  },
  {
   "cell_type": "code",
   "execution_count": 48,
   "metadata": {},
   "outputs": [],
   "source": [
    "candidatos_clean.to_csv('candidatos_clean.csv', index=False, encoding='utf-8')"
   ]
  },
  {
   "cell_type": "markdown",
   "metadata": {},
   "source": [
    "<a id='estados'></a>\n",
    "[Return to Table of Contents](#table)\n",
    "## Analysis and visualization\n",
    "After wrangling and cleaning data from `candidatos` we can try some univariate exploration."
   ]
  },
  {
   "cell_type": "code",
   "execution_count": null,
   "metadata": {},
   "outputs": [],
   "source": [
    "# Run this line if you don't have the dataframe postulaciones_clean\n",
    "postulaciones_clean = pd.read_csv('postulaciones_clean.csv', encoding='utf-8')"
   ]
  },
  {
   "cell_type": "markdown",
   "metadata": {},
   "source": [
    "### ¿Qué oficinas de SNE tienen más candidatos registrados?"
   ]
  },
  {
   "cell_type": "code",
   "execution_count": 70,
   "metadata": {},
   "outputs": [
    {
     "data": {
      "image/png": "[encoded data removed]",
      "text/plain": [
       "<Figure size 576x360 with 1 Axes>"
      ]
     },
     "metadata": {},
     "output_type": "display_data"
    }
   ],
   "source": [
    "candidatos_clean.groupby('entidadfed_sne')['id'].count().plot.bar(figsize=(8,5));\n"
   ]
  },
  {
   "cell_type": "markdown",
   "metadata": {},
   "source": [
    "### ¿Cuál es la escolaridad de candidatos por sexo ?"
   ]
  },
  {
   "cell_type": "code",
   "execution_count": 66,
   "metadata": {},
   "outputs": [
    {
     "data": {
      "image/png": "[encoded data removed]",
      "text/plain": [
       "<Figure size 720x360 with 1 Axes>"
      ]
     },
     "metadata": {},
     "output_type": "display_data"
    }
   ],
   "source": [
    "candidatos_clean.groupby(['escolaridad','sexo'])['id'].count().unstack().plot.bar(figsize=(10,5));"
   ]
  },
  {
   "cell_type": "markdown",
   "metadata": {},
   "source": [
    "### ¿Cuántos candidatos hablan alguna lengua indígena ?"
   ]
  },
  {
   "cell_type": "code",
   "execution_count": 123,
   "metadata": {},
   "outputs": [],
   "source": [
    "g3 = pd.DataFrame(candidatos_clean.groupby(['lengua_indigena'])['id'].count(), )"
   ]
  },
  {
   "cell_type": "code",
   "execution_count": 124,
   "metadata": {},
   "outputs": [],
   "source": [
    "g3 = g3.drop(index='No');"
   ]
  },
  {
   "cell_type": "code",
   "execution_count": 125,
   "metadata": {},
   "outputs": [
    {
     "data": {
      "image/png": "[encoded data removed]",
      "text/plain": [
       "<Figure size 864x576 with 1 Axes>"
      ]
     },
     "metadata": {},
     "output_type": "display_data"
    }
   ],
   "source": [
    "g3.unstack().plot.bar(figsize=(12,8));"
   ]
  },
  {
   "cell_type": "markdown",
   "metadata": {},
   "source": [
    "### ¿Cómo es la distribución de edades por sexo?"
   ]
  },
  {
   "cell_type": "code",
   "execution_count": 129,
   "metadata": {},
   "outputs": [],
   "source": [
    "g4 = candidatos_clean[['id','sexo','edad']]"
   ]
  },
  {
   "cell_type": "code",
   "execution_count": 136,
   "metadata": {},
   "outputs": [
    {
     "data": {
      "image/png": "[encoded data removed]",
      "text/plain": [
       "<Figure size 432x288 with 1 Axes>"
      ]
     },
     "metadata": {},
     "output_type": "display_data"
    }
   ],
   "source": [
    "tick_locs = [10,20,30,40,50,50,70,80,90,100]\n",
    "tick_names = [10,20,30,40,50,50,70,80,90,100]\n",
    "sns.violinplot(data = g4, x='sexo', y='edad')\n",
    "plt.yticks(tick_locs,tick_names);"
   ]
  },
  {
   "cell_type": "markdown",
   "metadata": {},
   "source": [
    "### ¿Cuáles áreas tienen más candidatos registrados?"
   ]
  },
  {
   "cell_type": "code",
   "execution_count": 161,
   "metadata": {},
   "outputs": [],
   "source": [
    "areas_count = candidatos_clean.groupby('area', as_index=False)['id'].count();"
   ]
  },
  {
   "cell_type": "code",
   "execution_count": 168,
   "metadata": {},
   "outputs": [],
   "source": [
    "top_10_areas = areas_count.nlargest(10,'id')"
   ]
  },
  {
   "cell_type": "code",
   "execution_count": 169,
   "metadata": {},
   "outputs": [
    {
     "data": {
      "image/png": "[encoded data removed]",
      "text/plain": [
       "<Figure size 720x360 with 1 Axes>"
      ]
     },
     "metadata": {},
     "output_type": "display_data"
    }
   ],
   "source": [
    "top_10_areas.plot.barh(y='id', x='area', figsize=(10,5)  );"
   ]
  },
  {
   "cell_type": "markdown",
   "metadata": {},
   "source": [
    "## References\n",
    "pd.isin()\n",
    "- https://www.geeksforgeeks.org/python-pandas-dataframe-isin/\n",
    "\n",
    "Obtener y filtrar datos de un dataframe\n",
    "- http://pyciencia.blogspot.com/2015/05/obtener-y-filtrar-datos-de-un-dataframe.html\n",
    "- https://medium.com/@rtjeannier/pandas-101-cont-9d061cb73bfc"
   ]
  },
  {
   "cell_type": "code",
   "execution_count": null,
   "metadata": {},
   "outputs": [],
   "source": []
  }
 ],
 "metadata": {
  "kernelspec": {
   "display_name": "Python [conda env:anaconda3]",
   "language": "python",
   "name": "conda-env-anaconda3-py"
  },
  "language_info": {
   "codemirror_mode": {
    "name": "ipython",
    "version": 3
   },
   "file_extension": ".py",
   "mimetype": "text/x-python",
   "name": "python",
   "nbconvert_exporter": "python",
   "pygments_lexer": "ipython3",
   "version": "3.6.5"
  }
 },
 "nbformat": 4,
 "nbformat_minor": 2
}
