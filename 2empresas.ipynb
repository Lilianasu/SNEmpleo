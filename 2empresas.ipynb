{
 "cells": [
  {
   "cell_type": "markdown",
   "metadata": {},
   "source": [
    "## Reading stata files\n",
    "\n",
    "The `read_stata()` function is used to load data from stata files into a Pandas dataframe. We just need to import the`pandas` library and specify the filepath of our data."
   ]
  },
  {
   "cell_type": "code",
   "execution_count": 1,
   "metadata": {},
   "outputs": [],
   "source": [
    "import pandas as pd"
   ]
  },
  {
   "cell_type": "code",
   "execution_count": 54,
   "metadata": {},
   "outputs": [],
   "source": [
    "empresas = pd.read_stata('BID2.EMPRESAS.dta', chunksize=100)"
   ]
  },
  {
   "cell_type": "code",
   "execution_count": 55,
   "metadata": {},
   "outputs": [
    {
     "data": {
      "text/html": [
       "<div>\n",
       "<style scoped>\n",
       "    .dataframe tbody tr th:only-of-type {\n",
       "        vertical-align: middle;\n",
       "    }\n",
       "\n",
       "    .dataframe tbody tr th {\n",
       "        vertical-align: top;\n",
       "    }\n",
       "\n",
       "    .dataframe thead th {\n",
       "        text-align: right;\n",
       "    }\n",
       "</style>\n",
       "<table border=\"1\" class=\"dataframe\">\n",
       "  <thead>\n",
       "    <tr style=\"text-align: right;\">\n",
       "      <th></th>\n",
       "      <th>id</th>\n",
       "      <th>id_empresa</th>\n",
       "      <th>tipo_persona</th>\n",
       "      <th>tipo_sociedad</th>\n",
       "      <th>descripcion_empresa</th>\n",
       "      <th>actividad</th>\n",
       "      <th>tipo_empleador</th>\n",
       "      <th>como_se_entero_del_sne</th>\n",
       "      <th>entidadfed_sne</th>\n",
       "      <th>municipio</th>\n",
       "      <th>localidad</th>\n",
       "      <th>codigo_postal</th>\n",
       "      <th>fuente</th>\n",
       "    </tr>\n",
       "  </thead>\n",
       "  <tbody>\n",
       "    <tr>\n",
       "      <th>0</th>\n",
       "      <td>123996</td>\n",
       "      <td>301.0</td>\n",
       "      <td>FISICA</td>\n",
       "      <td>FISICA</td>\n",
       "      <td>SERVICIOS DE CONTABILIDAD</td>\n",
       "      <td>Servicios de contabilidad, auditoría y servici...</td>\n",
       "      <td>PRIVADA</td>\n",
       "      <td>Internet</td>\n",
       "      <td>DURANGO</td>\n",
       "      <td>GÓMEZ PALACIO</td>\n",
       "      <td>GÓMEZ PALACIO</td>\n",
       "      <td>35000</td>\n",
       "      <td>SISPAEW</td>\n",
       "    </tr>\n",
       "    <tr>\n",
       "      <th>1</th>\n",
       "      <td>242786</td>\n",
       "      <td>1201.0</td>\n",
       "      <td>FISICA</td>\n",
       "      <td>FISICA</td>\n",
       "      <td>ENVASADO Y COMERCIALIZACION DE DETERGENTES Y M...</td>\n",
       "      <td>Servicios de administración de negocios</td>\n",
       "      <td>PRIVADA</td>\n",
       "      <td>Internet</td>\n",
       "      <td>SAN LUIS POTOSÍ</td>\n",
       "      <td>SOLEDAD DE GRACIANO SÁNCHEZ</td>\n",
       "      <td>SOLEDAD DE GRACIANO SÁNCHEZ</td>\n",
       "      <td>78433</td>\n",
       "      <td>SISPAEW</td>\n",
       "    </tr>\n",
       "    <tr>\n",
       "      <th>2</th>\n",
       "      <td>43691</td>\n",
       "      <td>1301.0</td>\n",
       "      <td>FISICA</td>\n",
       "      <td>FISICA</td>\n",
       "      <td>CENTRO DE IMPRESION DIGITAL</td>\n",
       "      <td>Servicios de publicidad y actividades relacion...</td>\n",
       "      <td>PRIVADA</td>\n",
       "      <td>Internet</td>\n",
       "      <td>SAN LUIS POTOSÍ</td>\n",
       "      <td>SOLEDAD DE GRACIANO SÁNCHEZ</td>\n",
       "      <td>SOLEDAD DE GRACIANO SÁNCHEZ</td>\n",
       "      <td>78438</td>\n",
       "      <td>SISPAEW</td>\n",
       "    </tr>\n",
       "    <tr>\n",
       "      <th>3</th>\n",
       "      <td>101740</td>\n",
       "      <td>1701.0</td>\n",
       "      <td>FISICA</td>\n",
       "      <td>FISICA</td>\n",
       "      <td>ABOGADOS Y ATENCION A CLIENTES</td>\n",
       "      <td>Servicios legales</td>\n",
       "      <td>PRIVADA</td>\n",
       "      <td>Internet</td>\n",
       "      <td>SAN LUIS POTOSÍ</td>\n",
       "      <td>SAN LUIS POTOSÍ</td>\n",
       "      <td>SAN LUIS POTOSÍ</td>\n",
       "      <td>78000</td>\n",
       "      <td>SISPAEW</td>\n",
       "    </tr>\n",
       "    <tr>\n",
       "      <th>4</th>\n",
       "      <td>224565</td>\n",
       "      <td>1801.0</td>\n",
       "      <td>FISICA</td>\n",
       "      <td>FISICA</td>\n",
       "      <td>TAXIS</td>\n",
       "      <td>Otros servicios relacionados con el transporte</td>\n",
       "      <td>PRIVADA</td>\n",
       "      <td>Internet</td>\n",
       "      <td>SAN LUIS POTOSÍ</td>\n",
       "      <td>SAN LUIS POTOSÍ</td>\n",
       "      <td>SAN LUIS POTOSÍ</td>\n",
       "      <td>78000</td>\n",
       "      <td>SISPAEW</td>\n",
       "    </tr>\n",
       "  </tbody>\n",
       "</table>\n",
       "</div>"
      ],
      "text/plain": [
       "       id  id_empresa tipo_persona tipo_sociedad  \\\n",
       "0  123996       301.0       FISICA        FISICA   \n",
       "1  242786      1201.0       FISICA        FISICA   \n",
       "2   43691      1301.0       FISICA        FISICA   \n",
       "3  101740      1701.0       FISICA        FISICA   \n",
       "4  224565      1801.0       FISICA        FISICA   \n",
       "\n",
       "                                 descripcion_empresa  \\\n",
       "0                          SERVICIOS DE CONTABILIDAD   \n",
       "1  ENVASADO Y COMERCIALIZACION DE DETERGENTES Y M...   \n",
       "2                        CENTRO DE IMPRESION DIGITAL   \n",
       "3                     ABOGADOS Y ATENCION A CLIENTES   \n",
       "4                                              TAXIS   \n",
       "\n",
       "                                           actividad tipo_empleador  \\\n",
       "0  Servicios de contabilidad, auditoría y servici...        PRIVADA   \n",
       "1            Servicios de administración de negocios        PRIVADA   \n",
       "2  Servicios de publicidad y actividades relacion...        PRIVADA   \n",
       "3                                  Servicios legales        PRIVADA   \n",
       "4     Otros servicios relacionados con el transporte        PRIVADA   \n",
       "\n",
       "  como_se_entero_del_sne   entidadfed_sne                    municipio  \\\n",
       "0               Internet          DURANGO                GÓMEZ PALACIO   \n",
       "1               Internet  SAN LUIS POTOSÍ  SOLEDAD DE GRACIANO SÁNCHEZ   \n",
       "2               Internet  SAN LUIS POTOSÍ  SOLEDAD DE GRACIANO SÁNCHEZ   \n",
       "3               Internet  SAN LUIS POTOSÍ              SAN LUIS POTOSÍ   \n",
       "4               Internet  SAN LUIS POTOSÍ              SAN LUIS POTOSÍ   \n",
       "\n",
       "                     localidad codigo_postal   fuente  \n",
       "0                GÓMEZ PALACIO         35000  SISPAEW  \n",
       "1  SOLEDAD DE GRACIANO SÁNCHEZ         78433  SISPAEW  \n",
       "2  SOLEDAD DE GRACIANO SÁNCHEZ         78438  SISPAEW  \n",
       "3              SAN LUIS POTOSÍ         78000  SISPAEW  \n",
       "4              SAN LUIS POTOSÍ         78000  SISPAEW  "
      ]
     },
     "execution_count": 55,
     "metadata": {},
     "output_type": "execute_result"
    }
   ],
   "source": [
    "empresas._encoding = 'utf-8'\n",
    "a = next(empresas)\n",
    "a.head()"
   ]
  },
  {
   "cell_type": "code",
   "execution_count": 37,
   "metadata": {},
   "outputs": [],
   "source": [
    "empresas.loc[0,'municipio'] = empresas['municipio'][0].encode('latin-1').decode('utf-8')"
   ]
  },
  {
   "cell_type": "markdown",
   "metadata": {},
   "source": [
    "## Exploring the dataframe\n",
    "`.head()` is used to explore the first entries. If `()` is left in blank, it returns the first 5 entries.\n",
    "\n",
    "`.tail()` is used to explore the last entries. `.tail(3)` will show the last 3 entries.\n"
   ]
  },
  {
   "cell_type": "code",
   "execution_count": 38,
   "metadata": {},
   "outputs": [
    {
     "data": {
      "text/html": [
       "<div>\n",
       "<style scoped>\n",
       "    .dataframe tbody tr th:only-of-type {\n",
       "        vertical-align: middle;\n",
       "    }\n",
       "\n",
       "    .dataframe tbody tr th {\n",
       "        vertical-align: top;\n",
       "    }\n",
       "\n",
       "    .dataframe thead th {\n",
       "        text-align: right;\n",
       "    }\n",
       "</style>\n",
       "<table border=\"1\" class=\"dataframe\">\n",
       "  <thead>\n",
       "    <tr style=\"text-align: right;\">\n",
       "      <th></th>\n",
       "      <th>id</th>\n",
       "      <th>id_empresa</th>\n",
       "      <th>tipo_persona</th>\n",
       "      <th>tipo_sociedad</th>\n",
       "      <th>descripcion_empresa</th>\n",
       "      <th>actividad</th>\n",
       "      <th>tipo_empleador</th>\n",
       "      <th>como_se_entero_del_sne</th>\n",
       "      <th>entidadfed_sne</th>\n",
       "      <th>municipio</th>\n",
       "      <th>localidad</th>\n",
       "      <th>codigo_postal</th>\n",
       "      <th>fuente</th>\n",
       "    </tr>\n",
       "  </thead>\n",
       "  <tbody>\n",
       "    <tr>\n",
       "      <th>0</th>\n",
       "      <td>123996</td>\n",
       "      <td>301.0</td>\n",
       "      <td>FISICA</td>\n",
       "      <td>FISICA</td>\n",
       "      <td>SERVICIOS DE CONTABILIDAD</td>\n",
       "      <td>Servicios de contabilidad, auditoría y servici...</td>\n",
       "      <td>PRIVADA</td>\n",
       "      <td>Internet</td>\n",
       "      <td>DURANGO</td>\n",
       "      <td>GÓMEZ PALACIO</td>\n",
       "      <td>GÃMEZ PALACIO</td>\n",
       "      <td>35000</td>\n",
       "      <td>SISPAEW</td>\n",
       "    </tr>\n",
       "    <tr>\n",
       "      <th>1</th>\n",
       "      <td>242786</td>\n",
       "      <td>1201.0</td>\n",
       "      <td>FISICA</td>\n",
       "      <td>FISICA</td>\n",
       "      <td>ENVASADO Y COMERCIALIZACION DE DETERGENTES Y M...</td>\n",
       "      <td>Servicios de administración de negocios</td>\n",
       "      <td>PRIVADA</td>\n",
       "      <td>Internet</td>\n",
       "      <td>SAN LUIS POTOSÍ</td>\n",
       "      <td>SOLEDAD DE GRACIANO SÁNCHEZ</td>\n",
       "      <td>SOLEDAD DE GRACIANO SÃNCHEZ</td>\n",
       "      <td>78433</td>\n",
       "      <td>SISPAEW</td>\n",
       "    </tr>\n",
       "    <tr>\n",
       "      <th>2</th>\n",
       "      <td>43691</td>\n",
       "      <td>1301.0</td>\n",
       "      <td>FISICA</td>\n",
       "      <td>FISICA</td>\n",
       "      <td>CENTRO DE IMPRESION DIGITAL</td>\n",
       "      <td>Servicios de publicidad y actividades relacion...</td>\n",
       "      <td>PRIVADA</td>\n",
       "      <td>Internet</td>\n",
       "      <td>SAN LUIS POTOSÃ</td>\n",
       "      <td>SOLEDAD DE GRACIANO SÃNCHEZ</td>\n",
       "      <td>SOLEDAD DE GRACIANO SÃNCHEZ</td>\n",
       "      <td>78438</td>\n",
       "      <td>SISPAEW</td>\n",
       "    </tr>\n",
       "    <tr>\n",
       "      <th>3</th>\n",
       "      <td>101740</td>\n",
       "      <td>1701.0</td>\n",
       "      <td>FISICA</td>\n",
       "      <td>FISICA</td>\n",
       "      <td>ABOGADOS Y ATENCION A CLIENTES</td>\n",
       "      <td>Servicios legales</td>\n",
       "      <td>PRIVADA</td>\n",
       "      <td>Internet</td>\n",
       "      <td>SAN LUIS POTOSÃ</td>\n",
       "      <td>SAN LUIS POTOSÃ</td>\n",
       "      <td>SAN LUIS POTOSÃ</td>\n",
       "      <td>78000</td>\n",
       "      <td>SISPAEW</td>\n",
       "    </tr>\n",
       "    <tr>\n",
       "      <th>4</th>\n",
       "      <td>224565</td>\n",
       "      <td>1801.0</td>\n",
       "      <td>FISICA</td>\n",
       "      <td>FISICA</td>\n",
       "      <td>TAXIS</td>\n",
       "      <td>Otros servicios relacionados con el transporte</td>\n",
       "      <td>PRIVADA</td>\n",
       "      <td>Internet</td>\n",
       "      <td>SAN LUIS POTOSÃ</td>\n",
       "      <td>SAN LUIS POTOSÃ</td>\n",
       "      <td>SAN LUIS POTOSÃ</td>\n",
       "      <td>78000</td>\n",
       "      <td>SISPAEW</td>\n",
       "    </tr>\n",
       "  </tbody>\n",
       "</table>\n",
       "</div>"
      ],
      "text/plain": [
       "       id  id_empresa tipo_persona tipo_sociedad  \\\n",
       "0  123996       301.0       FISICA        FISICA   \n",
       "1  242786      1201.0       FISICA        FISICA   \n",
       "2   43691      1301.0       FISICA        FISICA   \n",
       "3  101740      1701.0       FISICA        FISICA   \n",
       "4  224565      1801.0       FISICA        FISICA   \n",
       "\n",
       "                                 descripcion_empresa  \\\n",
       "0                          SERVICIOS DE CONTABILIDAD   \n",
       "1  ENVASADO Y COMERCIALIZACION DE DETERGENTES Y M...   \n",
       "2                        CENTRO DE IMPRESION DIGITAL   \n",
       "3                     ABOGADOS Y ATENCION A CLIENTES   \n",
       "4                                              TAXIS   \n",
       "\n",
       "                                           actividad tipo_empleador  \\\n",
       "0  Servicios de contabilidad, auditoría y servici...        PRIVADA   \n",
       "1            Servicios de administración de negocios        PRIVADA   \n",
       "2  Servicios de publicidad y actividades relacion...        PRIVADA   \n",
       "3                                  Servicios legales        PRIVADA   \n",
       "4     Otros servicios relacionados con el transporte        PRIVADA   \n",
       "\n",
       "  como_se_entero_del_sne    entidadfed_sne                     municipio  \\\n",
       "0               Internet           DURANGO                 GÓMEZ PALACIO   \n",
       "1               Internet   SAN LUIS POTOSÍ   SOLEDAD DE GRACIANO SÁNCHEZ   \n",
       "2               Internet  SAN LUIS POTOSÃ  SOLEDAD DE GRACIANO SÃNCHEZ   \n",
       "3               Internet  SAN LUIS POTOSÃ              SAN LUIS POTOSÃ   \n",
       "4               Internet  SAN LUIS POTOSÃ              SAN LUIS POTOSÃ   \n",
       "\n",
       "                      localidad codigo_postal   fuente  \n",
       "0                GÃMEZ PALACIO         35000  SISPAEW  \n",
       "1  SOLEDAD DE GRACIANO SÃNCHEZ         78433  SISPAEW  \n",
       "2  SOLEDAD DE GRACIANO SÃNCHEZ         78438  SISPAEW  \n",
       "3              SAN LUIS POTOSÃ         78000  SISPAEW  \n",
       "4              SAN LUIS POTOSÃ         78000  SISPAEW  "
      ]
     },
     "execution_count": 38,
     "metadata": {},
     "output_type": "execute_result"
    }
   ],
   "source": [
    "empresas.head()"
   ]
  },
  {
   "cell_type": "markdown",
   "metadata": {},
   "source": [
    "`.info()` details numbers of entries, columns, and data types"
   ]
  },
  {
   "cell_type": "code",
   "execution_count": 24,
   "metadata": {},
   "outputs": [
    {
     "name": "stdout",
     "output_type": "stream",
     "text": [
      "<class 'pandas.core.frame.DataFrame'>\n",
      "Int64Index: 193551 entries, 0 to 193550\n",
      "Data columns (total 13 columns):\n",
      "id                        193551 non-null int32\n",
      "id_empresa                193551 non-null float64\n",
      "tipo_persona              193551 non-null object\n",
      "tipo_sociedad             193551 non-null object\n",
      "descripcion_empresa       193551 non-null object\n",
      "actividad                 193551 non-null object\n",
      "tipo_empleador            193551 non-null object\n",
      "como_se_entero_del_sne    193551 non-null object\n",
      "entidadfed_sne            193551 non-null object\n",
      "municipio                 193551 non-null object\n",
      "localidad                 193551 non-null object\n",
      "codigo_postal             193551 non-null object\n",
      "fuente                    193551 non-null object\n",
      "dtypes: float64(1), int32(1), object(11)\n",
      "memory usage: 19.9+ MB\n"
     ]
    }
   ],
   "source": [
    "empresas.info()"
   ]
  },
  {
   "cell_type": "markdown",
   "metadata": {},
   "source": [
    "`.describe()` generates descriptive statistics that summarize the central tendency, dispersion and shape of a dataset’s distribution, excluding NaN values."
   ]
  },
  {
   "cell_type": "code",
   "execution_count": null,
   "metadata": {},
   "outputs": [],
   "source": [
    "empresas.describe()"
   ]
  },
  {
   "cell_type": "markdown",
   "metadata": {},
   "source": [
    "`.nunique()` Counts distinct observations over requested axis.\n",
    "\n",
    "`.unique()` Uniques are returned in order of appearance."
   ]
  },
  {
   "cell_type": "code",
   "execution_count": null,
   "metadata": {},
   "outputs": [],
   "source": [
    "empresas.nunique()"
   ]
  },
  {
   "cell_type": "code",
   "execution_count": 8,
   "metadata": {},
   "outputs": [
    {
     "data": {
      "text/plain": [
       "array(['PRIVADA', 'PÃ\\x9aBLICA', 'SOCIAL'], dtype=object)"
      ]
     },
     "execution_count": 8,
     "metadata": {},
     "output_type": "execute_result"
    }
   ],
   "source": [
    "empresas['tipo_empleador'].unique()"
   ]
  },
  {
   "cell_type": "markdown",
   "metadata": {},
   "source": [
    "## Writing CSV Files"
   ]
  },
  {
   "cell_type": "code",
   "execution_count": null,
   "metadata": {},
   "outputs": [],
   "source": [
    "empresas.to_csv('empresas.csv')"
   ]
  },
  {
   "cell_type": "markdown",
   "metadata": {},
   "source": [
    "Let's see if that worked the way we wanted."
   ]
  },
  {
   "cell_type": "code",
   "execution_count": null,
   "metadata": {},
   "outputs": [],
   "source": [
    "df = pd.read_csv('empresas.csv')\n",
    "df.head()"
   ]
  },
  {
   "cell_type": "markdown",
   "metadata": {},
   "source": [
    "What's this `Unnamed:0`? `to_csv()` will store our index unless we tell it not to. To make it ignore the index, we have to provide the parameter `index=False`"
   ]
  },
  {
   "cell_type": "code",
   "execution_count": null,
   "metadata": {},
   "outputs": [],
   "source": [
    "empresas.to_csv('empresas.csv',index=False)"
   ]
  },
  {
   "cell_type": "code",
   "execution_count": null,
   "metadata": {},
   "outputs": [],
   "source": [
    "df = pd.read_csv('empresas.csv')\n",
    "df.head()"
   ]
  }
 ],
 "metadata": {
  "kernelspec": {
   "display_name": "Python [conda env:anaconda3]",
   "language": "python",
   "name": "conda-env-anaconda3-py"
  },
  "language_info": {
   "codemirror_mode": {
    "name": "ipython",
    "version": 3
   },
   "file_extension": ".py",
   "mimetype": "text/x-python",
   "name": "python",
   "nbconvert_exporter": "python",
   "pygments_lexer": "ipython3",
   "version": "3.6.5"
  }
 },
 "nbformat": 4,
 "nbformat_minor": 2
}
